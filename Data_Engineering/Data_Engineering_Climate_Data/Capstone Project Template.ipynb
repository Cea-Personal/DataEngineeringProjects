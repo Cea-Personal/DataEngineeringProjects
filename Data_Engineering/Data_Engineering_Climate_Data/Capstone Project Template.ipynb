{
 "cells": [
  {
   "cell_type": "markdown",
   "metadata": {
    "editable": true
   },
   "source": [
    "# Project Title\n",
    "### Data Engineering Capstone Project\n",
    "\n",
    "#### Project Summary\n",
    " This purpose of the project is to build a data pipeline and warehouse that will serve as the source of data for analysing the relationship of population density and green house emission on global land temeperatures.\n",
    "\n",
    "The project follows the follow steps:\n",
    "* Step 1: Scope the Project and Gather Data\n",
    "* Step 2: Explore and Assess the Data\n",
    "* Step 3: Define the Data Model\n",
    "* Step 4: Run ETL to Model the Data\n",
    "* Step 5: Complete Project Write Up"
   ]
  },
  {
   "cell_type": "code",
   "execution_count": 3,
   "metadata": {
    "editable": true
   },
   "outputs": [],
   "source": [
    "# Do all imports and installs here\n",
    "import pandas as pd"
   ]
  },
  {
   "source": [
    "## Scope\n",
    "Over the years, the emissions of green house gases like C02, Methane, e.t.c has greatly affected the ozone layer, depleting it, resulting in the green house effect, an increase in climatic temperatures or global warning. The effect of this cannot be overstated as seen in defrosting of ice layers, increased wiild fires, water shortage, heat waves and others. This green house gases emissions comes form automobiles, industrial actions like crude oil processing and domestic actions like coal burning. The increase in global temperatures (climate change) has been a great source of concern in this decade with many countries signing pacts in order to reduced human actions that aids global warming. Studies has also shown that an increase in population density has an effect on the surface temperatures.\n",
    "\n",
    "The aim of the project is to create a data warehouse containing structured data can be used by a data science team to investigate the effect of greeen house gases emissions and population density on climatic temperatures in countries over years. \n",
    "\n",
    "In carrying out this project, the following steps are taken:\n",
    "\n",
    "- Gather Land temperature, Green house Emissions, and Population Density data over a period of years\n",
    "- Carry out exploratory data analysis of the data\n",
    "- Create a conceptual data model for saving the data into a warehouse\n",
    "- Carry out ETL process using Spark and save files locally in Parquet format\n",
    "- Move data into Redshift data warehouse.\n",
    "- Build a data pipeline using Apache Airflow to carry automate the two previous steps and carry out quality checks\n"
   ],
   "cell_type": "markdown",
   "metadata": {}
  },
  {
   "source": [
    "## Data Acquisition\n",
    "\n",
    "The data for this project was gotten from four sources. This varied sources is then aggregated at the ETL stage.\n",
    "\n",
    "### Global land temperatures by cities and countries\n",
    "\n",
    "Data on Global land temperatures by cities and countries was gotten from an open dataset on [Kaggle](https://www.kaggle.com/berkeleyearth/climate-change-earth-surface-temperature-data). \n",
    "\n",
    "The GlobalLandTemperaturesByCity contains seven (7) columns and about eight 8.6 million rows.  The  columns include date in months for each year per city from the year 1743 through to 2013. Other columns are the Average temperature, Average Temperature Uncertianty,City, Country, Latitude, Longitude.\n",
    "\n",
    "The GlobalLandTemperaturesByCountry contains four (4) columns and about 570 thousand rows . The columns include date, Average Temperature, Average Temperature Uncertainty and Country.\n",
    "\n",
    "### Green House Emissions\n",
    "\n",
    "The data og green house emission is gotten from an open dataset on [OurWorldInData](https://ourworldindata.org/greenhouse-gas-emissions). It contains data on data emissions from 1990 to 2016  of 193 countries . It contains about 5200 rows and 4 columns including Entity (country), Code (three letter country iso code), Year and Total GHG emissions including LUCF (CAIT)\n",
    "\n",
    "### Population Density \n",
    "The data on population density for countries from the open dataset in [OurWorldInData](https://ourworldindata.org/world-population-growth).\n",
    "\n",
    "The world population density data contains the average population density of about 262 countries from 1961 to 2017. It contains 14600 rows and 4 columns including Entity(country), Code (thre letter country iso code), Year and Population Density in Per square kilometer of land.\n",
    "\n",
    "### Country and Continents\n",
    "The data on country and continent was collected to map continent to country knowing that the data scientist would like to investigate which continent tend to be more affected by climatic issues. The data is gotten from [datahub](https://datahub.io/JohnSnowLabs/country-and-continent-codes-list). It has information on 254 countries and there respective continent. It contains 261 rows and six columns including Country_Name, Continent_Name and Three_Letter_Country_Code\n",
    "\n"
   ],
   "cell_type": "markdown",
   "metadata": {}
  },
  {
   "cell_type": "code",
   "execution_count": 5,
   "metadata": {},
   "outputs": [],
   "source": [
    "# Read in the data here\n",
    "city_temp_df = pd.read_csv(\"./Data/GlobalLandTemperaturesByCity.csv\")\n",
    "count_temp_df = pd.read_csv(\"./Data/GlobalLandTemperaturesByCountry.csv\")\n"
   ]
  },
  {
   "cell_type": "code",
   "execution_count": 7,
   "metadata": {},
   "outputs": [],
   "source": [
    "emis_df = pd.read_csv(\"./Data/TotalGHGEmissions.csv\")\n",
    "country_df = pd.read_csv(\"./Data/Country.csv\")\n",
    "population_df = pd.read_csv(\"./Data/PopulationDensity.csv\")"
   ]
  },
  {
   "source": [
    "## Data Exploration"
   ],
   "cell_type": "markdown",
   "metadata": {}
  },
  {
   "source": [
    "### Global Land Temperatures By City"
   ],
   "cell_type": "markdown",
   "metadata": {}
  },
  {
   "cell_type": "code",
   "execution_count": 9,
   "metadata": {
    "editable": true
   },
   "outputs": [
    {
     "output_type": "execute_result",
     "data": {
      "text/plain": [
       "           dt  AverageTemperature  AverageTemperatureUncertainty   City  \\\n",
       "0  1743-11-01               6.068                          1.737  Århus   \n",
       "1  1743-12-01                 NaN                            NaN  Århus   \n",
       "2  1744-01-01                 NaN                            NaN  Århus   \n",
       "3  1744-02-01                 NaN                            NaN  Århus   \n",
       "4  1744-03-01                 NaN                            NaN  Århus   \n",
       "\n",
       "   Country Latitude Longitude  \n",
       "0  Denmark   57.05N    10.33E  \n",
       "1  Denmark   57.05N    10.33E  \n",
       "2  Denmark   57.05N    10.33E  \n",
       "3  Denmark   57.05N    10.33E  \n",
       "4  Denmark   57.05N    10.33E  "
      ],
      "text/html": "<div>\n<style scoped>\n    .dataframe tbody tr th:only-of-type {\n        vertical-align: middle;\n    }\n\n    .dataframe tbody tr th {\n        vertical-align: top;\n    }\n\n    .dataframe thead th {\n        text-align: right;\n    }\n</style>\n<table border=\"1\" class=\"dataframe\">\n  <thead>\n    <tr style=\"text-align: right;\">\n      <th></th>\n      <th>dt</th>\n      <th>AverageTemperature</th>\n      <th>AverageTemperatureUncertainty</th>\n      <th>City</th>\n      <th>Country</th>\n      <th>Latitude</th>\n      <th>Longitude</th>\n    </tr>\n  </thead>\n  <tbody>\n    <tr>\n      <th>0</th>\n      <td>1743-11-01</td>\n      <td>6.068</td>\n      <td>1.737</td>\n      <td>Århus</td>\n      <td>Denmark</td>\n      <td>57.05N</td>\n      <td>10.33E</td>\n    </tr>\n    <tr>\n      <th>1</th>\n      <td>1743-12-01</td>\n      <td>NaN</td>\n      <td>NaN</td>\n      <td>Århus</td>\n      <td>Denmark</td>\n      <td>57.05N</td>\n      <td>10.33E</td>\n    </tr>\n    <tr>\n      <th>2</th>\n      <td>1744-01-01</td>\n      <td>NaN</td>\n      <td>NaN</td>\n      <td>Århus</td>\n      <td>Denmark</td>\n      <td>57.05N</td>\n      <td>10.33E</td>\n    </tr>\n    <tr>\n      <th>3</th>\n      <td>1744-02-01</td>\n      <td>NaN</td>\n      <td>NaN</td>\n      <td>Århus</td>\n      <td>Denmark</td>\n      <td>57.05N</td>\n      <td>10.33E</td>\n    </tr>\n    <tr>\n      <th>4</th>\n      <td>1744-03-01</td>\n      <td>NaN</td>\n      <td>NaN</td>\n      <td>Århus</td>\n      <td>Denmark</td>\n      <td>57.05N</td>\n      <td>10.33E</td>\n    </tr>\n  </tbody>\n</table>\n</div>"
     },
     "metadata": {},
     "execution_count": 9
    }
   ],
   "source": [
    "city_temp_df.head()"
   ]
  },
  {
   "source": [
    "num_of_entries = len(city_temp_df.index)\n",
    "city_temp_df.info()"
   ],
   "cell_type": "code",
   "metadata": {},
   "execution_count": 11,
   "outputs": [
    {
     "output_type": "stream",
     "name": "stdout",
     "text": [
      "<class 'pandas.core.frame.DataFrame'>\nRangeIndex: 8599212 entries, 0 to 8599211\nData columns (total 7 columns):\n #   Column                         Dtype  \n---  ------                         -----  \n 0   dt                             object \n 1   AverageTemperature             float64\n 2   AverageTemperatureUncertainty  float64\n 3   City                           object \n 4   Country                        object \n 5   Latitude                       object \n 6   Longitude                      object \ndtypes: float64(2), object(5)\nmemory usage: 459.2+ MB\n"
     ]
    }
   ]
  },
  {
   "cell_type": "code",
   "execution_count": 13,
   "metadata": {},
   "outputs": [
    {
     "output_type": "execute_result",
     "data": {
      "text/plain": [
       "                 dt  AverageTemperature  AverageTemperatureUncertainty  \\\n",
       "0        1743-11-01               6.068                          1.737   \n",
       "5        1744-04-01               5.788                          3.624   \n",
       "6        1744-05-01              10.644                          1.283   \n",
       "7        1744-06-01              14.051                          1.347   \n",
       "8        1744-07-01              16.082                          1.396   \n",
       "...             ...                 ...                            ...   \n",
       "8599206  2013-04-01               7.710                          0.182   \n",
       "8599207  2013-05-01              11.464                          0.236   \n",
       "8599208  2013-06-01              15.043                          0.261   \n",
       "8599209  2013-07-01              18.775                          0.193   \n",
       "8599210  2013-08-01              18.025                          0.298   \n",
       "\n",
       "           City      Country Latitude Longitude  \n",
       "0         Århus      Denmark   57.05N    10.33E  \n",
       "5         Århus      Denmark   57.05N    10.33E  \n",
       "6         Århus      Denmark   57.05N    10.33E  \n",
       "7         Århus      Denmark   57.05N    10.33E  \n",
       "8         Århus      Denmark   57.05N    10.33E  \n",
       "...         ...          ...      ...       ...  \n",
       "8599206  Zwolle  Netherlands   52.24N     5.26E  \n",
       "8599207  Zwolle  Netherlands   52.24N     5.26E  \n",
       "8599208  Zwolle  Netherlands   52.24N     5.26E  \n",
       "8599209  Zwolle  Netherlands   52.24N     5.26E  \n",
       "8599210  Zwolle  Netherlands   52.24N     5.26E  \n",
       "\n",
       "[8235082 rows x 7 columns]"
      ],
      "text/html": "<div>\n<style scoped>\n    .dataframe tbody tr th:only-of-type {\n        vertical-align: middle;\n    }\n\n    .dataframe tbody tr th {\n        vertical-align: top;\n    }\n\n    .dataframe thead th {\n        text-align: right;\n    }\n</style>\n<table border=\"1\" class=\"dataframe\">\n  <thead>\n    <tr style=\"text-align: right;\">\n      <th></th>\n      <th>dt</th>\n      <th>AverageTemperature</th>\n      <th>AverageTemperatureUncertainty</th>\n      <th>City</th>\n      <th>Country</th>\n      <th>Latitude</th>\n      <th>Longitude</th>\n    </tr>\n  </thead>\n  <tbody>\n    <tr>\n      <th>0</th>\n      <td>1743-11-01</td>\n      <td>6.068</td>\n      <td>1.737</td>\n      <td>Århus</td>\n      <td>Denmark</td>\n      <td>57.05N</td>\n      <td>10.33E</td>\n    </tr>\n    <tr>\n      <th>5</th>\n      <td>1744-04-01</td>\n      <td>5.788</td>\n      <td>3.624</td>\n      <td>Århus</td>\n      <td>Denmark</td>\n      <td>57.05N</td>\n      <td>10.33E</td>\n    </tr>\n    <tr>\n      <th>6</th>\n      <td>1744-05-01</td>\n      <td>10.644</td>\n      <td>1.283</td>\n      <td>Århus</td>\n      <td>Denmark</td>\n      <td>57.05N</td>\n      <td>10.33E</td>\n    </tr>\n    <tr>\n      <th>7</th>\n      <td>1744-06-01</td>\n      <td>14.051</td>\n      <td>1.347</td>\n      <td>Århus</td>\n      <td>Denmark</td>\n      <td>57.05N</td>\n      <td>10.33E</td>\n    </tr>\n    <tr>\n      <th>8</th>\n      <td>1744-07-01</td>\n      <td>16.082</td>\n      <td>1.396</td>\n      <td>Århus</td>\n      <td>Denmark</td>\n      <td>57.05N</td>\n      <td>10.33E</td>\n    </tr>\n    <tr>\n      <th>...</th>\n      <td>...</td>\n      <td>...</td>\n      <td>...</td>\n      <td>...</td>\n      <td>...</td>\n      <td>...</td>\n      <td>...</td>\n    </tr>\n    <tr>\n      <th>8599206</th>\n      <td>2013-04-01</td>\n      <td>7.710</td>\n      <td>0.182</td>\n      <td>Zwolle</td>\n      <td>Netherlands</td>\n      <td>52.24N</td>\n      <td>5.26E</td>\n    </tr>\n    <tr>\n      <th>8599207</th>\n      <td>2013-05-01</td>\n      <td>11.464</td>\n      <td>0.236</td>\n      <td>Zwolle</td>\n      <td>Netherlands</td>\n      <td>52.24N</td>\n      <td>5.26E</td>\n    </tr>\n    <tr>\n      <th>8599208</th>\n      <td>2013-06-01</td>\n      <td>15.043</td>\n      <td>0.261</td>\n      <td>Zwolle</td>\n      <td>Netherlands</td>\n      <td>52.24N</td>\n      <td>5.26E</td>\n    </tr>\n    <tr>\n      <th>8599209</th>\n      <td>2013-07-01</td>\n      <td>18.775</td>\n      <td>0.193</td>\n      <td>Zwolle</td>\n      <td>Netherlands</td>\n      <td>52.24N</td>\n      <td>5.26E</td>\n    </tr>\n    <tr>\n      <th>8599210</th>\n      <td>2013-08-01</td>\n      <td>18.025</td>\n      <td>0.298</td>\n      <td>Zwolle</td>\n      <td>Netherlands</td>\n      <td>52.24N</td>\n      <td>5.26E</td>\n    </tr>\n  </tbody>\n</table>\n<p>8235082 rows × 7 columns</p>\n</div>"
     },
     "metadata": {},
     "execution_count": 13
    }
   ],
   "source": [
    "city_temp_df2 = city_temp_df.dropna(subset=[\"AverageTemperature\"])\n",
    "no_nan_entries = len(city_temp_df2)\n",
    "city_temp_df2"
   ]
  },
  {
   "cell_type": "code",
   "execution_count": 15,
   "metadata": {},
   "outputs": [
    {
     "output_type": "execute_result",
     "data": {
      "text/plain": [
       "159"
      ]
     },
     "metadata": {},
     "execution_count": 15
    }
   ],
   "source": [
    "city_temp_df[\"Country\"].nunique()"
   ]
  },
  {
   "cell_type": "code",
   "execution_count": 17,
   "metadata": {},
   "outputs": [
    {
     "output_type": "stream",
     "name": "stdout",
     "text": [
      "1743 2013\nnumber of missing values: 364130\n"
     ]
    }
   ],
   "source": [
    "t=pd.to_datetime(city_temp_df[\"dt\"])\n",
    "print (t.dt.year.min(), t.dt.year.max())\n",
    "print(\"number of missing values:\",num_of_entries - no_nan_entries)"
   ]
  },
  {
   "source": [
    "### Summary \n",
    "\n",
    "Exploring the data shows that there are about 364130 missing values for average temperatures in the database. Also this missing values may occur in a particular month in a year but not in the other months. Therefore getting the yearly average temperature for a city might not be straight forward."
   ],
   "cell_type": "markdown",
   "metadata": {}
  },
  {
   "source": [
    "### Global Land Temperature by Country"
   ],
   "cell_type": "markdown",
   "metadata": {}
  },
  {
   "cell_type": "code",
   "execution_count": 19,
   "metadata": {},
   "outputs": [
    {
     "output_type": "execute_result",
     "data": {
      "text/plain": [
       "           dt  AverageTemperature  AverageTemperatureUncertainty Country\n",
       "0  1743-11-01               4.384                          2.294   Åland\n",
       "1  1743-12-01                 NaN                            NaN   Åland\n",
       "2  1744-01-01                 NaN                            NaN   Åland\n",
       "3  1744-02-01                 NaN                            NaN   Åland\n",
       "4  1744-03-01                 NaN                            NaN   Åland"
      ],
      "text/html": "<div>\n<style scoped>\n    .dataframe tbody tr th:only-of-type {\n        vertical-align: middle;\n    }\n\n    .dataframe tbody tr th {\n        vertical-align: top;\n    }\n\n    .dataframe thead th {\n        text-align: right;\n    }\n</style>\n<table border=\"1\" class=\"dataframe\">\n  <thead>\n    <tr style=\"text-align: right;\">\n      <th></th>\n      <th>dt</th>\n      <th>AverageTemperature</th>\n      <th>AverageTemperatureUncertainty</th>\n      <th>Country</th>\n    </tr>\n  </thead>\n  <tbody>\n    <tr>\n      <th>0</th>\n      <td>1743-11-01</td>\n      <td>4.384</td>\n      <td>2.294</td>\n      <td>Åland</td>\n    </tr>\n    <tr>\n      <th>1</th>\n      <td>1743-12-01</td>\n      <td>NaN</td>\n      <td>NaN</td>\n      <td>Åland</td>\n    </tr>\n    <tr>\n      <th>2</th>\n      <td>1744-01-01</td>\n      <td>NaN</td>\n      <td>NaN</td>\n      <td>Åland</td>\n    </tr>\n    <tr>\n      <th>3</th>\n      <td>1744-02-01</td>\n      <td>NaN</td>\n      <td>NaN</td>\n      <td>Åland</td>\n    </tr>\n    <tr>\n      <th>4</th>\n      <td>1744-03-01</td>\n      <td>NaN</td>\n      <td>NaN</td>\n      <td>Åland</td>\n    </tr>\n  </tbody>\n</table>\n</div>"
     },
     "metadata": {},
     "execution_count": 19
    }
   ],
   "source": [
    "count_temp_df.head()"
   ]
  },
  {
   "cell_type": "code",
   "execution_count": 21,
   "metadata": {},
   "outputs": [
    {
     "output_type": "stream",
     "name": "stdout",
     "text": [
      "<class 'pandas.core.frame.DataFrame'>\nRangeIndex: 577462 entries, 0 to 577461\nData columns (total 4 columns):\n #   Column                         Non-Null Count   Dtype  \n---  ------                         --------------   -----  \n 0   dt                             577462 non-null  object \n 1   AverageTemperature             544811 non-null  float64\n 2   AverageTemperatureUncertainty  545550 non-null  float64\n 3   Country                        577462 non-null  object \ndtypes: float64(2), object(2)\nmemory usage: 17.6+ MB\n"
     ]
    }
   ],
   "source": [
    "count_temp_df.info()\n",
    "num_of_entries = len(count_temp_df.index)"
   ]
  },
  {
   "cell_type": "code",
   "execution_count": 23,
   "metadata": {},
   "outputs": [
    {
     "output_type": "execute_result",
     "data": {
      "text/plain": [
       "                dt  AverageTemperature  AverageTemperatureUncertainty  \\\n",
       "0       1743-11-01               4.384                          2.294   \n",
       "5       1744-04-01               1.530                          4.680   \n",
       "6       1744-05-01               6.702                          1.789   \n",
       "7       1744-06-01              11.609                          1.577   \n",
       "8       1744-07-01              15.342                          1.410   \n",
       "...            ...                 ...                            ...   \n",
       "577456  2013-04-01              21.142                          0.495   \n",
       "577457  2013-05-01              19.059                          1.022   \n",
       "577458  2013-06-01              17.613                          0.473   \n",
       "577459  2013-07-01              17.000                          0.453   \n",
       "577460  2013-08-01              19.759                          0.717   \n",
       "\n",
       "         Country  \n",
       "0          Åland  \n",
       "5          Åland  \n",
       "6          Åland  \n",
       "7          Åland  \n",
       "8          Åland  \n",
       "...          ...  \n",
       "577456  Zimbabwe  \n",
       "577457  Zimbabwe  \n",
       "577458  Zimbabwe  \n",
       "577459  Zimbabwe  \n",
       "577460  Zimbabwe  \n",
       "\n",
       "[544811 rows x 4 columns]"
      ],
      "text/html": "<div>\n<style scoped>\n    .dataframe tbody tr th:only-of-type {\n        vertical-align: middle;\n    }\n\n    .dataframe tbody tr th {\n        vertical-align: top;\n    }\n\n    .dataframe thead th {\n        text-align: right;\n    }\n</style>\n<table border=\"1\" class=\"dataframe\">\n  <thead>\n    <tr style=\"text-align: right;\">\n      <th></th>\n      <th>dt</th>\n      <th>AverageTemperature</th>\n      <th>AverageTemperatureUncertainty</th>\n      <th>Country</th>\n    </tr>\n  </thead>\n  <tbody>\n    <tr>\n      <th>0</th>\n      <td>1743-11-01</td>\n      <td>4.384</td>\n      <td>2.294</td>\n      <td>Åland</td>\n    </tr>\n    <tr>\n      <th>5</th>\n      <td>1744-04-01</td>\n      <td>1.530</td>\n      <td>4.680</td>\n      <td>Åland</td>\n    </tr>\n    <tr>\n      <th>6</th>\n      <td>1744-05-01</td>\n      <td>6.702</td>\n      <td>1.789</td>\n      <td>Åland</td>\n    </tr>\n    <tr>\n      <th>7</th>\n      <td>1744-06-01</td>\n      <td>11.609</td>\n      <td>1.577</td>\n      <td>Åland</td>\n    </tr>\n    <tr>\n      <th>8</th>\n      <td>1744-07-01</td>\n      <td>15.342</td>\n      <td>1.410</td>\n      <td>Åland</td>\n    </tr>\n    <tr>\n      <th>...</th>\n      <td>...</td>\n      <td>...</td>\n      <td>...</td>\n      <td>...</td>\n    </tr>\n    <tr>\n      <th>577456</th>\n      <td>2013-04-01</td>\n      <td>21.142</td>\n      <td>0.495</td>\n      <td>Zimbabwe</td>\n    </tr>\n    <tr>\n      <th>577457</th>\n      <td>2013-05-01</td>\n      <td>19.059</td>\n      <td>1.022</td>\n      <td>Zimbabwe</td>\n    </tr>\n    <tr>\n      <th>577458</th>\n      <td>2013-06-01</td>\n      <td>17.613</td>\n      <td>0.473</td>\n      <td>Zimbabwe</td>\n    </tr>\n    <tr>\n      <th>577459</th>\n      <td>2013-07-01</td>\n      <td>17.000</td>\n      <td>0.453</td>\n      <td>Zimbabwe</td>\n    </tr>\n    <tr>\n      <th>577460</th>\n      <td>2013-08-01</td>\n      <td>19.759</td>\n      <td>0.717</td>\n      <td>Zimbabwe</td>\n    </tr>\n  </tbody>\n</table>\n<p>544811 rows × 4 columns</p>\n</div>"
     },
     "metadata": {},
     "execution_count": 23
    }
   ],
   "source": [
    "count_temp_df2= count_temp_df.dropna(subset=[\"AverageTemperature\"])\n",
    "no_nan_entries = len(count_temp_df2.index)\n",
    "count_temp_df2"
   ]
  },
  {
   "cell_type": "code",
   "execution_count": 25,
   "metadata": {},
   "outputs": [
    {
     "output_type": "execute_result",
     "data": {
      "text/plain": [
       "243"
      ]
     },
     "metadata": {},
     "execution_count": 25
    }
   ],
   "source": [
    "count_temp_df[\"Country\"].nunique()"
   ]
  },
  {
   "cell_type": "code",
   "execution_count": 27,
   "metadata": {},
   "outputs": [
    {
     "output_type": "stream",
     "name": "stdout",
     "text": [
      "1743 2013\nnumber of missing values: 32651\n"
     ]
    }
   ],
   "source": [
    "t=pd.to_datetime(count_temp_df[\"dt\"])\n",
    "print (t.dt.year.min(), t.dt.year.max())\n",
    "print(\"number of missing values:\", num_of_entries - no_nan_entries)"
   ]
  },
  {
   "source": [
    "### Summary \n",
    "\n",
    "Exploring the data shows that there are about 32651 missing values for average temperatures by country in the database."
   ],
   "cell_type": "markdown",
   "metadata": {}
  },
  {
   "source": [
    "### Total Global Emissions "
   ],
   "cell_type": "markdown",
   "metadata": {}
  },
  {
   "cell_type": "code",
   "execution_count": 29,
   "metadata": {},
   "outputs": [
    {
     "output_type": "execute_result",
     "data": {
      "text/plain": [
       "        Entity Code  Year  Total GHG emissions including LUCF (CAIT)\n",
       "0  Afghanistan  AFG  1990                                 15140000.0\n",
       "1  Afghanistan  AFG  1991                                 15060000.0\n",
       "2  Afghanistan  AFG  1992                                 13600000.0\n",
       "3  Afghanistan  AFG  1993                                 13430000.0\n",
       "4  Afghanistan  AFG  1994                                 13240000.0"
      ],
      "text/html": "<div>\n<style scoped>\n    .dataframe tbody tr th:only-of-type {\n        vertical-align: middle;\n    }\n\n    .dataframe tbody tr th {\n        vertical-align: top;\n    }\n\n    .dataframe thead th {\n        text-align: right;\n    }\n</style>\n<table border=\"1\" class=\"dataframe\">\n  <thead>\n    <tr style=\"text-align: right;\">\n      <th></th>\n      <th>Entity</th>\n      <th>Code</th>\n      <th>Year</th>\n      <th>Total GHG emissions including LUCF (CAIT)</th>\n    </tr>\n  </thead>\n  <tbody>\n    <tr>\n      <th>0</th>\n      <td>Afghanistan</td>\n      <td>AFG</td>\n      <td>1990</td>\n      <td>15140000.0</td>\n    </tr>\n    <tr>\n      <th>1</th>\n      <td>Afghanistan</td>\n      <td>AFG</td>\n      <td>1991</td>\n      <td>15060000.0</td>\n    </tr>\n    <tr>\n      <th>2</th>\n      <td>Afghanistan</td>\n      <td>AFG</td>\n      <td>1992</td>\n      <td>13600000.0</td>\n    </tr>\n    <tr>\n      <th>3</th>\n      <td>Afghanistan</td>\n      <td>AFG</td>\n      <td>1993</td>\n      <td>13430000.0</td>\n    </tr>\n    <tr>\n      <th>4</th>\n      <td>Afghanistan</td>\n      <td>AFG</td>\n      <td>1994</td>\n      <td>13240000.0</td>\n    </tr>\n  </tbody>\n</table>\n</div>"
     },
     "metadata": {},
     "execution_count": 29
    }
   ],
   "source": [
    "emis_df.head()"
   ]
  },
  {
   "cell_type": "code",
   "execution_count": 31,
   "metadata": {},
   "outputs": [
    {
     "output_type": "stream",
     "name": "stdout",
     "text": [
      "<class 'pandas.core.frame.DataFrame'>\nRangeIndex: 5208 entries, 0 to 5207\nData columns (total 4 columns):\n #   Column                                     Non-Null Count  Dtype  \n---  ------                                     --------------  -----  \n 0   Entity                                     5208 non-null   object \n 1   Code                                       5155 non-null   object \n 2   Year                                       5208 non-null   int64  \n 3   Total GHG emissions including LUCF (CAIT)  5208 non-null   float64\ndtypes: float64(1), int64(1), object(2)\nmemory usage: 162.9+ KB\n"
     ]
    }
   ],
   "source": [
    "emis_df.info()"
   ]
  },
  {
   "cell_type": "code",
   "execution_count": 33,
   "metadata": {},
   "outputs": [
    {
     "output_type": "execute_result",
     "data": {
      "text/plain": [
       "           Entity Code  Year  Total GHG emissions including LUCF (CAIT)\n",
       "0     Afghanistan  AFG  1990                                 15140000.0\n",
       "1     Afghanistan  AFG  1991                                 15060000.0\n",
       "2     Afghanistan  AFG  1992                                 13600000.0\n",
       "3     Afghanistan  AFG  1993                                 13430000.0\n",
       "4     Afghanistan  AFG  1994                                 13240000.0\n",
       "...           ...  ...   ...                                        ...\n",
       "5203     Zimbabwe  ZWE  2012                                 67630000.0\n",
       "5204     Zimbabwe  ZWE  2013                                 67550000.0\n",
       "5205     Zimbabwe  ZWE  2014                                 66100000.0\n",
       "5206     Zimbabwe  ZWE  2015                                 67490000.0\n",
       "5207     Zimbabwe  ZWE  2016                                 65980000.0\n",
       "\n",
       "[5208 rows x 4 columns]"
      ],
      "text/html": "<div>\n<style scoped>\n    .dataframe tbody tr th:only-of-type {\n        vertical-align: middle;\n    }\n\n    .dataframe tbody tr th {\n        vertical-align: top;\n    }\n\n    .dataframe thead th {\n        text-align: right;\n    }\n</style>\n<table border=\"1\" class=\"dataframe\">\n  <thead>\n    <tr style=\"text-align: right;\">\n      <th></th>\n      <th>Entity</th>\n      <th>Code</th>\n      <th>Year</th>\n      <th>Total GHG emissions including LUCF (CAIT)</th>\n    </tr>\n  </thead>\n  <tbody>\n    <tr>\n      <th>0</th>\n      <td>Afghanistan</td>\n      <td>AFG</td>\n      <td>1990</td>\n      <td>15140000.0</td>\n    </tr>\n    <tr>\n      <th>1</th>\n      <td>Afghanistan</td>\n      <td>AFG</td>\n      <td>1991</td>\n      <td>15060000.0</td>\n    </tr>\n    <tr>\n      <th>2</th>\n      <td>Afghanistan</td>\n      <td>AFG</td>\n      <td>1992</td>\n      <td>13600000.0</td>\n    </tr>\n    <tr>\n      <th>3</th>\n      <td>Afghanistan</td>\n      <td>AFG</td>\n      <td>1993</td>\n      <td>13430000.0</td>\n    </tr>\n    <tr>\n      <th>4</th>\n      <td>Afghanistan</td>\n      <td>AFG</td>\n      <td>1994</td>\n      <td>13240000.0</td>\n    </tr>\n    <tr>\n      <th>...</th>\n      <td>...</td>\n      <td>...</td>\n      <td>...</td>\n      <td>...</td>\n    </tr>\n    <tr>\n      <th>5203</th>\n      <td>Zimbabwe</td>\n      <td>ZWE</td>\n      <td>2012</td>\n      <td>67630000.0</td>\n    </tr>\n    <tr>\n      <th>5204</th>\n      <td>Zimbabwe</td>\n      <td>ZWE</td>\n      <td>2013</td>\n      <td>67550000.0</td>\n    </tr>\n    <tr>\n      <th>5205</th>\n      <td>Zimbabwe</td>\n      <td>ZWE</td>\n      <td>2014</td>\n      <td>66100000.0</td>\n    </tr>\n    <tr>\n      <th>5206</th>\n      <td>Zimbabwe</td>\n      <td>ZWE</td>\n      <td>2015</td>\n      <td>67490000.0</td>\n    </tr>\n    <tr>\n      <th>5207</th>\n      <td>Zimbabwe</td>\n      <td>ZWE</td>\n      <td>2016</td>\n      <td>65980000.0</td>\n    </tr>\n  </tbody>\n</table>\n<p>5208 rows × 4 columns</p>\n</div>"
     },
     "metadata": {},
     "execution_count": 33
    }
   ],
   "source": [
    "emis_df.dropna(subset=[\"Total GHG emissions including LUCF (CAIT)\"])"
   ]
  },
  {
   "cell_type": "code",
   "execution_count": 35,
   "metadata": {},
   "outputs": [
    {
     "output_type": "execute_result",
     "data": {
      "text/plain": [
       "193"
      ]
     },
     "metadata": {},
     "execution_count": 35
    }
   ],
   "source": [
    "emis_df[\"Entity\"].nunique()"
   ]
  },
  {
   "cell_type": "code",
   "execution_count": 37,
   "metadata": {},
   "outputs": [
    {
     "output_type": "stream",
     "name": "stdout",
     "text": [
      "1990 2016\n"
     ]
    }
   ],
   "source": [
    "print (emis_df.Year.min(), emis_df.Year.max())"
   ]
  },
  {
   "source": [
    "#### Summary\n",
    "All data has emissions informations however there are some countries that do not have codes , since this code is not really neccessary we use the data that way"
   ],
   "cell_type": "markdown",
   "metadata": {}
  },
  {
   "source": [
    "### Country Data"
   ],
   "cell_type": "markdown",
   "metadata": {}
  },
  {
   "cell_type": "code",
   "execution_count": 39,
   "metadata": {},
   "outputs": [
    {
     "output_type": "execute_result",
     "data": {
      "text/plain": [
       "  Continent_Name Continent_Code                                  Country_Name  \\\n",
       "0           Asia             AS              Afghanistan, Islamic Republic of   \n",
       "1         Europe             EU                          Albania, Republic of   \n",
       "2     Antarctica             AN  Antarctica (the territory South of 60 deg S)   \n",
       "3         Africa             AF      Algeria, People's Democratic Republic of   \n",
       "4        Oceania             OC                                American Samoa   \n",
       "5         Europe             EU                      Andorra, Principality of   \n",
       "6         Africa             AF                           Angola, Republic of   \n",
       "7  North America            NaN                           Antigua and Barbuda   \n",
       "8         Europe             EU                       Azerbaijan, Republic of   \n",
       "9           Asia             AS                       Azerbaijan, Republic of   \n",
       "\n",
       "  Two_Letter_Country_Code Three_Letter_Country_Code  Country_Number  \n",
       "0                      AF                       AFG             4.0  \n",
       "1                      AL                       ALB             8.0  \n",
       "2                      AQ                       ATA            10.0  \n",
       "3                      DZ                       DZA            12.0  \n",
       "4                      AS                       ASM            16.0  \n",
       "5                      AD                       AND            20.0  \n",
       "6                      AO                       AGO            24.0  \n",
       "7                      AG                       ATG            28.0  \n",
       "8                      AZ                       AZE            31.0  \n",
       "9                      AZ                       AZE            31.0  "
      ],
      "text/html": "<div>\n<style scoped>\n    .dataframe tbody tr th:only-of-type {\n        vertical-align: middle;\n    }\n\n    .dataframe tbody tr th {\n        vertical-align: top;\n    }\n\n    .dataframe thead th {\n        text-align: right;\n    }\n</style>\n<table border=\"1\" class=\"dataframe\">\n  <thead>\n    <tr style=\"text-align: right;\">\n      <th></th>\n      <th>Continent_Name</th>\n      <th>Continent_Code</th>\n      <th>Country_Name</th>\n      <th>Two_Letter_Country_Code</th>\n      <th>Three_Letter_Country_Code</th>\n      <th>Country_Number</th>\n    </tr>\n  </thead>\n  <tbody>\n    <tr>\n      <th>0</th>\n      <td>Asia</td>\n      <td>AS</td>\n      <td>Afghanistan, Islamic Republic of</td>\n      <td>AF</td>\n      <td>AFG</td>\n      <td>4.0</td>\n    </tr>\n    <tr>\n      <th>1</th>\n      <td>Europe</td>\n      <td>EU</td>\n      <td>Albania, Republic of</td>\n      <td>AL</td>\n      <td>ALB</td>\n      <td>8.0</td>\n    </tr>\n    <tr>\n      <th>2</th>\n      <td>Antarctica</td>\n      <td>AN</td>\n      <td>Antarctica (the territory South of 60 deg S)</td>\n      <td>AQ</td>\n      <td>ATA</td>\n      <td>10.0</td>\n    </tr>\n    <tr>\n      <th>3</th>\n      <td>Africa</td>\n      <td>AF</td>\n      <td>Algeria, People's Democratic Republic of</td>\n      <td>DZ</td>\n      <td>DZA</td>\n      <td>12.0</td>\n    </tr>\n    <tr>\n      <th>4</th>\n      <td>Oceania</td>\n      <td>OC</td>\n      <td>American Samoa</td>\n      <td>AS</td>\n      <td>ASM</td>\n      <td>16.0</td>\n    </tr>\n    <tr>\n      <th>5</th>\n      <td>Europe</td>\n      <td>EU</td>\n      <td>Andorra, Principality of</td>\n      <td>AD</td>\n      <td>AND</td>\n      <td>20.0</td>\n    </tr>\n    <tr>\n      <th>6</th>\n      <td>Africa</td>\n      <td>AF</td>\n      <td>Angola, Republic of</td>\n      <td>AO</td>\n      <td>AGO</td>\n      <td>24.0</td>\n    </tr>\n    <tr>\n      <th>7</th>\n      <td>North America</td>\n      <td>NaN</td>\n      <td>Antigua and Barbuda</td>\n      <td>AG</td>\n      <td>ATG</td>\n      <td>28.0</td>\n    </tr>\n    <tr>\n      <th>8</th>\n      <td>Europe</td>\n      <td>EU</td>\n      <td>Azerbaijan, Republic of</td>\n      <td>AZ</td>\n      <td>AZE</td>\n      <td>31.0</td>\n    </tr>\n    <tr>\n      <th>9</th>\n      <td>Asia</td>\n      <td>AS</td>\n      <td>Azerbaijan, Republic of</td>\n      <td>AZ</td>\n      <td>AZE</td>\n      <td>31.0</td>\n    </tr>\n  </tbody>\n</table>\n</div>"
     },
     "metadata": {},
     "execution_count": 39
    }
   ],
   "source": [
    "country_df.head(10)"
   ]
  },
  {
   "cell_type": "code",
   "execution_count": 41,
   "metadata": {},
   "outputs": [
    {
     "output_type": "stream",
     "name": "stdout",
     "text": [
      "<class 'pandas.core.frame.DataFrame'>\nRangeIndex: 262 entries, 0 to 261\nData columns (total 6 columns):\n #   Column                     Non-Null Count  Dtype  \n---  ------                     --------------  -----  \n 0   Continent_Name             262 non-null    object \n 1   Continent_Code             219 non-null    object \n 2   Country_Name               262 non-null    object \n 3   Two_Letter_Country_Code    261 non-null    object \n 4   Three_Letter_Country_Code  258 non-null    object \n 5   Country_Number             258 non-null    float64\ndtypes: float64(1), object(5)\nmemory usage: 12.4+ KB\n"
     ]
    }
   ],
   "source": [
    "country_df.info()"
   ]
  },
  {
   "cell_type": "code",
   "execution_count": 43,
   "metadata": {},
   "outputs": [
    {
     "output_type": "execute_result",
     "data": {
      "text/plain": [
       "254"
      ]
     },
     "metadata": {},
     "execution_count": 43
    }
   ],
   "source": [
    "country_df[\"Country_Name\"].nunique()\n"
   ]
  },
  {
   "cell_type": "code",
   "execution_count": 45,
   "metadata": {},
   "outputs": [
    {
     "output_type": "execute_result",
     "data": {
      "text/plain": [
       "    Continent_Name Continent_Code                          Country_Name  \\\n",
       "9             Asia             AS               Azerbaijan, Republic of   \n",
       "17            Asia             AS                  Armenia, Republic of   \n",
       "59            Asia             AS                   Cyprus, Republic of   \n",
       "84            Asia             AS                               Georgia   \n",
       "117           Asia             AS               Kazakhstan, Republic of   \n",
       "172  North America            NaN  United States Minor Outlying Islands   \n",
       "192           Asia             AS                    Russian Federation   \n",
       "235           Asia             AS                   Turkey, Republic of   \n",
       "\n",
       "    Two_Letter_Country_Code Three_Letter_Country_Code  Country_Number  \n",
       "9                        AZ                       AZE            31.0  \n",
       "17                       AM                       ARM            51.0  \n",
       "59                       CY                       CYP           196.0  \n",
       "84                       GE                       GEO           268.0  \n",
       "117                      KZ                       KAZ           398.0  \n",
       "172                      UM                       UMI           581.0  \n",
       "192                      RU                       RUS           643.0  \n",
       "235                      TR                       TUR           792.0  "
      ],
      "text/html": "<div>\n<style scoped>\n    .dataframe tbody tr th:only-of-type {\n        vertical-align: middle;\n    }\n\n    .dataframe tbody tr th {\n        vertical-align: top;\n    }\n\n    .dataframe thead th {\n        text-align: right;\n    }\n</style>\n<table border=\"1\" class=\"dataframe\">\n  <thead>\n    <tr style=\"text-align: right;\">\n      <th></th>\n      <th>Continent_Name</th>\n      <th>Continent_Code</th>\n      <th>Country_Name</th>\n      <th>Two_Letter_Country_Code</th>\n      <th>Three_Letter_Country_Code</th>\n      <th>Country_Number</th>\n    </tr>\n  </thead>\n  <tbody>\n    <tr>\n      <th>9</th>\n      <td>Asia</td>\n      <td>AS</td>\n      <td>Azerbaijan, Republic of</td>\n      <td>AZ</td>\n      <td>AZE</td>\n      <td>31.0</td>\n    </tr>\n    <tr>\n      <th>17</th>\n      <td>Asia</td>\n      <td>AS</td>\n      <td>Armenia, Republic of</td>\n      <td>AM</td>\n      <td>ARM</td>\n      <td>51.0</td>\n    </tr>\n    <tr>\n      <th>59</th>\n      <td>Asia</td>\n      <td>AS</td>\n      <td>Cyprus, Republic of</td>\n      <td>CY</td>\n      <td>CYP</td>\n      <td>196.0</td>\n    </tr>\n    <tr>\n      <th>84</th>\n      <td>Asia</td>\n      <td>AS</td>\n      <td>Georgia</td>\n      <td>GE</td>\n      <td>GEO</td>\n      <td>268.0</td>\n    </tr>\n    <tr>\n      <th>117</th>\n      <td>Asia</td>\n      <td>AS</td>\n      <td>Kazakhstan, Republic of</td>\n      <td>KZ</td>\n      <td>KAZ</td>\n      <td>398.0</td>\n    </tr>\n    <tr>\n      <th>172</th>\n      <td>North America</td>\n      <td>NaN</td>\n      <td>United States Minor Outlying Islands</td>\n      <td>UM</td>\n      <td>UMI</td>\n      <td>581.0</td>\n    </tr>\n    <tr>\n      <th>192</th>\n      <td>Asia</td>\n      <td>AS</td>\n      <td>Russian Federation</td>\n      <td>RU</td>\n      <td>RUS</td>\n      <td>643.0</td>\n    </tr>\n    <tr>\n      <th>235</th>\n      <td>Asia</td>\n      <td>AS</td>\n      <td>Turkey, Republic of</td>\n      <td>TR</td>\n      <td>TUR</td>\n      <td>792.0</td>\n    </tr>\n  </tbody>\n</table>\n</div>"
     },
     "metadata": {},
     "execution_count": 45
    }
   ],
   "source": [
    "country_df[country_df.duplicated([\"Country_Name\"])]"
   ]
  },
  {
   "source": [
    "#### Summary\n",
    "\n",
    "Exploring the data on the country shows that some of the 3 of the countries have no Three_Letter_Country_Code, likewise some rows have no Continent_code. Also he is duplicate data as there are 254 unique countires but 262 countries in total in the dataset. The dataframe above shows the duplicate countries."
   ],
   "cell_type": "markdown",
   "metadata": {}
  },
  {
   "source": [
    "### Population Density"
   ],
   "cell_type": "markdown",
   "metadata": {}
  },
  {
   "cell_type": "code",
   "execution_count": 47,
   "metadata": {},
   "outputs": [
    {
     "output_type": "execute_result",
     "data": {
      "text/plain": [
       "        Entity Code  Year  Population density (people per sq. km of land area)\n",
       "0  Afghanistan  AFG  1961                                          14.040934  \n",
       "1  Afghanistan  AFG  1962                                          14.315271  \n",
       "2  Afghanistan  AFG  1963                                          14.603367  \n",
       "3  Afghanistan  AFG  1964                                          14.905739  \n",
       "4  Afghanistan  AFG  1965                                          15.222887  "
      ],
      "text/html": "<div>\n<style scoped>\n    .dataframe tbody tr th:only-of-type {\n        vertical-align: middle;\n    }\n\n    .dataframe tbody tr th {\n        vertical-align: top;\n    }\n\n    .dataframe thead th {\n        text-align: right;\n    }\n</style>\n<table border=\"1\" class=\"dataframe\">\n  <thead>\n    <tr style=\"text-align: right;\">\n      <th></th>\n      <th>Entity</th>\n      <th>Code</th>\n      <th>Year</th>\n      <th>Population density (people per sq. km of land area)</th>\n    </tr>\n  </thead>\n  <tbody>\n    <tr>\n      <th>0</th>\n      <td>Afghanistan</td>\n      <td>AFG</td>\n      <td>1961</td>\n      <td>14.040934</td>\n    </tr>\n    <tr>\n      <th>1</th>\n      <td>Afghanistan</td>\n      <td>AFG</td>\n      <td>1962</td>\n      <td>14.315271</td>\n    </tr>\n    <tr>\n      <th>2</th>\n      <td>Afghanistan</td>\n      <td>AFG</td>\n      <td>1963</td>\n      <td>14.603367</td>\n    </tr>\n    <tr>\n      <th>3</th>\n      <td>Afghanistan</td>\n      <td>AFG</td>\n      <td>1964</td>\n      <td>14.905739</td>\n    </tr>\n    <tr>\n      <th>4</th>\n      <td>Afghanistan</td>\n      <td>AFG</td>\n      <td>1965</td>\n      <td>15.222887</td>\n    </tr>\n  </tbody>\n</table>\n</div>"
     },
     "metadata": {},
     "execution_count": 47
    }
   ],
   "source": [
    "population_df.head()"
   ]
  },
  {
   "cell_type": "code",
   "execution_count": 49,
   "metadata": {},
   "outputs": [
    {
     "output_type": "stream",
     "name": "stdout",
     "text": [
      "<class 'pandas.core.frame.DataFrame'>\nRangeIndex: 14600 entries, 0 to 14599\nData columns (total 4 columns):\n #   Column                                               Non-Null Count  Dtype  \n---  ------                                               --------------  -----  \n 0   Entity                                               14600 non-null  object \n 1   Code                                                 11978 non-null  object \n 2   Year                                                 14600 non-null  int64  \n 3   Population density (people per sq. km of land area)  14600 non-null  float64\ndtypes: float64(1), int64(1), object(2)\nmemory usage: 456.4+ KB\n"
     ]
    }
   ],
   "source": [
    "population_df.info()"
   ]
  },
  {
   "cell_type": "code",
   "execution_count": 51,
   "metadata": {},
   "outputs": [
    {
     "output_type": "stream",
     "name": "stdout",
     "text": [
      "1961 2017\n"
     ]
    }
   ],
   "source": [
    "print (population_df.Year.min(), population_df.Year.max())"
   ]
  },
  {
   "cell_type": "code",
   "execution_count": 55,
   "metadata": {},
   "outputs": [
    {
     "output_type": "execute_result",
     "data": {
      "text/plain": [
       "Empty DataFrame\n",
       "Columns: [Entity, Code, Year, Population density (people per sq. km of land area)]\n",
       "Index: []"
      ],
      "text/html": "<div>\n<style scoped>\n    .dataframe tbody tr th:only-of-type {\n        vertical-align: middle;\n    }\n\n    .dataframe tbody tr th {\n        vertical-align: top;\n    }\n\n    .dataframe thead th {\n        text-align: right;\n    }\n</style>\n<table border=\"1\" class=\"dataframe\">\n  <thead>\n    <tr style=\"text-align: right;\">\n      <th></th>\n      <th>Entity</th>\n      <th>Code</th>\n      <th>Year</th>\n      <th>Population density (people per sq. km of land area)</th>\n    </tr>\n  </thead>\n  <tbody>\n  </tbody>\n</table>\n</div>"
     },
     "metadata": {},
     "execution_count": 55
    }
   ],
   "source": [
    "population_df[population_df.duplicated([\"Entity\",\"Code\",\"Year\"])]"
   ]
  },
  {
   "source": [
    "#### Summary\n",
    "The Population density have 2622 countries that have no three letter country code. but there are no duplicates"
   ],
   "cell_type": "markdown",
   "metadata": {}
  },
  {
   "source": [
    "### Summary \n",
    "From all data we see that there different number of unique values for countries and the range of years differs. For the data scientist to be able to carry out meaningfull artist we take a collection of data at the intersection of both the number of countries and range of years. For this reason we are choosing to build a database with 150 countries with a year range of 1990 - 2013"
   ],
   "cell_type": "markdown",
   "metadata": {}
  },
  {
   "source": [
    "### Data Cleaning"
   ],
   "cell_type": "markdown",
   "metadata": {}
  },
  {
   "cell_type": "code",
   "execution_count": null,
   "metadata": {},
   "outputs": [],
   "source": [
    "### Removing unnceessary Data"
   ]
  },
  {
   "cell_type": "code",
   "execution_count": 54,
   "metadata": {
    "editable": true
   },
   "outputs": [
    {
     "output_type": "error",
     "ename": "ModuleNotFoundError",
     "evalue": "No module named 'pyspark'",
     "traceback": [
      "\u001b[0;31m---------------------------------------------------------------------------\u001b[0m",
      "\u001b[0;31mModuleNotFoundError\u001b[0m                       Traceback (most recent call last)",
      "\u001b[0;32m<ipython-input-54-7730537bc7c6>\u001b[0m in \u001b[0;36m<module>\u001b[0;34m\u001b[0m\n\u001b[0;32m----> 1\u001b[0;31m \u001b[0;32mfrom\u001b[0m \u001b[0mpyspark\u001b[0m\u001b[0;34m.\u001b[0m\u001b[0msql\u001b[0m \u001b[0;32mimport\u001b[0m \u001b[0mSparkSession\u001b[0m\u001b[0;34m\u001b[0m\u001b[0;34m\u001b[0m\u001b[0m\n\u001b[0m\u001b[1;32m      2\u001b[0m \u001b[0mspark\u001b[0m \u001b[0;34m=\u001b[0m \u001b[0mSparkSession\u001b[0m\u001b[0;34m.\u001b[0m\u001b[0mbuilder\u001b[0m\u001b[0;34m.\u001b[0m\u001b[0;31m\\\u001b[0m\u001b[0;34m\u001b[0m\u001b[0;34m\u001b[0m\u001b[0m\n\u001b[1;32m      3\u001b[0m \u001b[0mconfig\u001b[0m\u001b[0;34m(\u001b[0m\u001b[0;34m\"spark.jars.packages\"\u001b[0m\u001b[0;34m,\u001b[0m\u001b[0;34m\"saurfang:spark-sas7bdat:2.0.0-s_2.11\"\u001b[0m\u001b[0;34m)\u001b[0m\u001b[0;31m\\\u001b[0m\u001b[0;34m\u001b[0m\u001b[0;34m\u001b[0m\u001b[0m\n\u001b[1;32m      4\u001b[0m \u001b[0;34m.\u001b[0m\u001b[0menableHiveSupport\u001b[0m\u001b[0;34m(\u001b[0m\u001b[0;34m)\u001b[0m\u001b[0;34m.\u001b[0m\u001b[0mgetOrCreate\u001b[0m\u001b[0;34m(\u001b[0m\u001b[0;34m)\u001b[0m\u001b[0;34m\u001b[0m\u001b[0;34m\u001b[0m\u001b[0m\n\u001b[1;32m      5\u001b[0m \u001b[0mdf_spark\u001b[0m \u001b[0;34m=\u001b[0m\u001b[0mspark\u001b[0m\u001b[0;34m.\u001b[0m\u001b[0mread\u001b[0m\u001b[0;34m.\u001b[0m\u001b[0mformat\u001b[0m\u001b[0;34m(\u001b[0m\u001b[0;34m'com.github.saurfang.sas.spark'\u001b[0m\u001b[0;34m)\u001b[0m\u001b[0;34m.\u001b[0m\u001b[0mload\u001b[0m\u001b[0;34m(\u001b[0m\u001b[0;34m'../../data/18-83510-I94-Data-2016/i94_apr16_sub.sas7bdat'\u001b[0m\u001b[0;34m)\u001b[0m\u001b[0;34m\u001b[0m\u001b[0;34m\u001b[0m\u001b[0m\n",
      "\u001b[0;31mModuleNotFoundError\u001b[0m: No module named 'pyspark'"
     ]
    }
   ],
   "source": [
    "\t\n",
    "from pyspark.sql import SparkSession\n",
    "spark = SparkSession.builder.\\\n",
    "config(\"spark.jars.packages\",\"saurfang:spark-sas7bdat:2.0.0-s_2.11\")\\\n",
    ".enableHiveSupport().getOrCreate()\n",
    "df_spark =spark.read.format('com.github.saurfang.sas.spark').load('../../data/18-83510-I94-Data-2016/i94_apr16_sub.sas7bdat')\n"
   ]
  },
  {
   "cell_type": "code",
   "execution_count": 11,
   "metadata": {
    "editable": true
   },
   "outputs": [],
   "source": [
    "#write to parquet\n",
    "df_spark.write.parquet(\"sas_data\")\n",
    "df_spark=spark.read.parquet(\"sas_data\")"
   ]
  },
  {
   "cell_type": "markdown",
   "metadata": {
    "editable": true
   },
   "source": [
    "### Step 2: Explore and Assess the Data\n",
    "#### Explore the Data \n",
    "Identify data quality issues, like missing values, duplicate data, etc.\n",
    "\n",
    "#### Cleaning Steps\n",
    "Document steps necessary to clean the data"
   ]
  },
  {
   "cell_type": "code",
   "execution_count": null,
   "metadata": {
    "editable": true
   },
   "outputs": [],
   "source": [
    "# Performing cleaning tasks here\n",
    "\n",
    "\n",
    "\n"
   ]
  },
  {
   "cell_type": "markdown",
   "metadata": {
    "editable": true
   },
   "source": [
    "### Step 3: Define the Data Model\n",
    "#### 3.1 Conceptual Data Model\n",
    "Map out the conceptual data model and explain why you chose that model\n",
    "\n",
    "#### 3.2 Mapping Out Data Pipelines\n",
    "List the steps necessary to pipeline the data into the chosen data model"
   ]
  },
  {
   "cell_type": "markdown",
   "metadata": {
    "editable": true
   },
   "source": [
    "### Step 4: Run Pipelines to Model the Data \n",
    "#### 4.1 Create the data model\n",
    "Build the data pipelines to create the data model."
   ]
  },
  {
   "cell_type": "code",
   "execution_count": null,
   "metadata": {
    "editable": true
   },
   "outputs": [],
   "source": [
    "# Write code here"
   ]
  },
  {
   "cell_type": "markdown",
   "metadata": {
    "editable": true
   },
   "source": [
    "#### 4.2 Data Quality Checks\n",
    "Explain the data quality checks you'll perform to ensure the pipeline ran as expected. These could include:\n",
    " * Integrity constraints on the relational database (e.g., unique key, data type, etc.)\n",
    " * Unit tests for the scripts to ensure they are doing the right thing\n",
    " * Source/Count checks to ensure completeness\n",
    " \n",
    "Run Quality Checks"
   ]
  },
  {
   "cell_type": "code",
   "execution_count": null,
   "metadata": {
    "editable": true
   },
   "outputs": [],
   "source": [
    "# Perform quality checks here"
   ]
  },
  {
   "cell_type": "markdown",
   "metadata": {
    "editable": true
   },
   "source": [
    "#### 4.3 Data dictionary \n",
    "Create a data dictionary for your data model. For each field, provide a brief description of what the data is and where it came from. You can include the data dictionary in the notebook or in a separate file."
   ]
  },
  {
   "cell_type": "markdown",
   "metadata": {
    "editable": true
   },
   "source": [
    "#### Step 5: Complete Project Write Up\n",
    "* Clearly state the rationale for the choice of tools and technologies for the project.\n",
    "* Propose how often the data should be updated and why.\n",
    "* Write a description of how you would approach the problem differently under the following scenarios:\n",
    " * The data was increased by 100x.\n",
    " * The data populates a dashboard that must be updated on a daily basis by 7am every day.\n",
    " * The database needed to be accessed by 100+ people."
   ]
  }
 ],
 "metadata": {
  "kernelspec": {
   "name": "python3",
   "display_name": "Python 3.8.5 64-bit ('base': conda)"
  },
  "language_info": {
   "codemirror_mode": {
    "name": "ipython",
    "version": 3
   },
   "file_extension": ".py",
   "mimetype": "text/x-python",
   "name": "python",
   "nbconvert_exporter": "python",
   "pygments_lexer": "ipython3",
   "version": "3.8.5"
  },
  "interpreter": {
   "hash": "ff1451f766ff1f2aab9fee63bb48cc74e2e1277d7805d9df96af52a7af6088e7"
  }
 },
 "nbformat": 4,
 "nbformat_minor": 4
}