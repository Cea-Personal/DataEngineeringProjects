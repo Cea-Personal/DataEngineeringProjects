{
 "metadata": {
  "language_info": {
   "codemirror_mode": {
    "name": "ipython",
    "version": 3
   },
   "file_extension": ".py",
   "mimetype": "text/x-python",
   "name": "python",
   "nbconvert_exporter": "python",
   "pygments_lexer": "ipython3",
   "version": "3.8.5"
  },
  "orig_nbformat": 4,
  "kernelspec": {
   "name": "python3",
   "display_name": "Python 3.8.5 64-bit ('base': conda)"
  },
  "interpreter": {
   "hash": "ff1451f766ff1f2aab9fee63bb48cc74e2e1277d7805d9df96af52a7af6088e7"
  }
 },
 "nbformat": 4,
 "nbformat_minor": 2,
 "cells": [
  {
   "cell_type": "code",
   "execution_count": 11,
   "metadata": {},
   "outputs": [],
   "source": [
    "import pandas as pd "
   ]
  },
  {
   "cell_type": "code",
   "execution_count": 12,
   "metadata": {},
   "outputs": [
    {
     "output_type": "execute_result",
     "data": {
      "text/plain": [
       "            dt  AverageTemperature  AverageTemperatureUncertainty   City  \\\n",
       "0   1743-11-01               6.068                          1.737  Århus   \n",
       "1   1743-12-01                 NaN                            NaN  Århus   \n",
       "2   1744-01-01                 NaN                            NaN  Århus   \n",
       "3   1744-02-01                 NaN                            NaN  Århus   \n",
       "4   1744-03-01                 NaN                            NaN  Århus   \n",
       "5   1744-04-01               5.788                          3.624  Århus   \n",
       "6   1744-05-01              10.644                          1.283  Århus   \n",
       "7   1744-06-01              14.051                          1.347  Århus   \n",
       "8   1744-07-01              16.082                          1.396  Århus   \n",
       "9   1744-08-01                 NaN                            NaN  Århus   \n",
       "10  1744-09-01              12.781                          1.454  Århus   \n",
       "11  1744-10-01               7.950                          1.630  Århus   \n",
       "12  1744-11-01               4.639                          1.302  Århus   \n",
       "13  1744-12-01               0.122                          1.756  Århus   \n",
       "14  1745-01-01              -1.333                          1.642  Århus   \n",
       "15  1745-02-01              -2.732                          1.358  Århus   \n",
       "16  1745-03-01               0.129                          1.088  Århus   \n",
       "17  1745-04-01               4.042                          1.138  Århus   \n",
       "18  1745-05-01                 NaN                            NaN  Århus   \n",
       "19  1745-06-01                 NaN                            NaN  Århus   \n",
       "20  1745-07-01                 NaN                            NaN  Århus   \n",
       "21  1745-08-01                 NaN                            NaN  Århus   \n",
       "22  1745-09-01                 NaN                            NaN  Århus   \n",
       "23  1745-10-01                 NaN                            NaN  Århus   \n",
       "24  1745-11-01                 NaN                            NaN  Århus   \n",
       "25  1745-12-01                 NaN                            NaN  Århus   \n",
       "26  1746-01-01                 NaN                            NaN  Århus   \n",
       "27  1746-02-01                 NaN                            NaN  Århus   \n",
       "28  1746-03-01                 NaN                            NaN  Århus   \n",
       "29  1746-04-01                 NaN                            NaN  Århus   \n",
       "30  1746-05-01                 NaN                            NaN  Århus   \n",
       "31  1746-06-01                 NaN                            NaN  Århus   \n",
       "32  1746-07-01                 NaN                            NaN  Århus   \n",
       "33  1746-08-01                 NaN                            NaN  Århus   \n",
       "34  1746-09-01                 NaN                            NaN  Århus   \n",
       "35  1746-10-01                 NaN                            NaN  Århus   \n",
       "36  1746-11-01                 NaN                            NaN  Århus   \n",
       "37  1746-12-01                 NaN                            NaN  Århus   \n",
       "38  1747-01-01                 NaN                            NaN  Århus   \n",
       "39  1747-02-01                 NaN                            NaN  Århus   \n",
       "40  1747-03-01                 NaN                            NaN  Århus   \n",
       "41  1747-04-01                 NaN                            NaN  Århus   \n",
       "42  1747-05-01                 NaN                            NaN  Århus   \n",
       "43  1747-06-01                 NaN                            NaN  Århus   \n",
       "44  1747-07-01                 NaN                            NaN  Århus   \n",
       "45  1747-08-01                 NaN                            NaN  Århus   \n",
       "46  1747-09-01                 NaN                            NaN  Århus   \n",
       "47  1747-10-01                 NaN                            NaN  Århus   \n",
       "48  1747-11-01                 NaN                            NaN  Århus   \n",
       "49  1747-12-01                 NaN                            NaN  Århus   \n",
       "\n",
       "    Country Latitude Longitude  \n",
       "0   Denmark   57.05N    10.33E  \n",
       "1   Denmark   57.05N    10.33E  \n",
       "2   Denmark   57.05N    10.33E  \n",
       "3   Denmark   57.05N    10.33E  \n",
       "4   Denmark   57.05N    10.33E  \n",
       "5   Denmark   57.05N    10.33E  \n",
       "6   Denmark   57.05N    10.33E  \n",
       "7   Denmark   57.05N    10.33E  \n",
       "8   Denmark   57.05N    10.33E  \n",
       "9   Denmark   57.05N    10.33E  \n",
       "10  Denmark   57.05N    10.33E  \n",
       "11  Denmark   57.05N    10.33E  \n",
       "12  Denmark   57.05N    10.33E  \n",
       "13  Denmark   57.05N    10.33E  \n",
       "14  Denmark   57.05N    10.33E  \n",
       "15  Denmark   57.05N    10.33E  \n",
       "16  Denmark   57.05N    10.33E  \n",
       "17  Denmark   57.05N    10.33E  \n",
       "18  Denmark   57.05N    10.33E  \n",
       "19  Denmark   57.05N    10.33E  \n",
       "20  Denmark   57.05N    10.33E  \n",
       "21  Denmark   57.05N    10.33E  \n",
       "22  Denmark   57.05N    10.33E  \n",
       "23  Denmark   57.05N    10.33E  \n",
       "24  Denmark   57.05N    10.33E  \n",
       "25  Denmark   57.05N    10.33E  \n",
       "26  Denmark   57.05N    10.33E  \n",
       "27  Denmark   57.05N    10.33E  \n",
       "28  Denmark   57.05N    10.33E  \n",
       "29  Denmark   57.05N    10.33E  \n",
       "30  Denmark   57.05N    10.33E  \n",
       "31  Denmark   57.05N    10.33E  \n",
       "32  Denmark   57.05N    10.33E  \n",
       "33  Denmark   57.05N    10.33E  \n",
       "34  Denmark   57.05N    10.33E  \n",
       "35  Denmark   57.05N    10.33E  \n",
       "36  Denmark   57.05N    10.33E  \n",
       "37  Denmark   57.05N    10.33E  \n",
       "38  Denmark   57.05N    10.33E  \n",
       "39  Denmark   57.05N    10.33E  \n",
       "40  Denmark   57.05N    10.33E  \n",
       "41  Denmark   57.05N    10.33E  \n",
       "42  Denmark   57.05N    10.33E  \n",
       "43  Denmark   57.05N    10.33E  \n",
       "44  Denmark   57.05N    10.33E  \n",
       "45  Denmark   57.05N    10.33E  \n",
       "46  Denmark   57.05N    10.33E  \n",
       "47  Denmark   57.05N    10.33E  \n",
       "48  Denmark   57.05N    10.33E  \n",
       "49  Denmark   57.05N    10.33E  "
      ],
      "text/html": "<div>\n<style scoped>\n    .dataframe tbody tr th:only-of-type {\n        vertical-align: middle;\n    }\n\n    .dataframe tbody tr th {\n        vertical-align: top;\n    }\n\n    .dataframe thead th {\n        text-align: right;\n    }\n</style>\n<table border=\"1\" class=\"dataframe\">\n  <thead>\n    <tr style=\"text-align: right;\">\n      <th></th>\n      <th>dt</th>\n      <th>AverageTemperature</th>\n      <th>AverageTemperatureUncertainty</th>\n      <th>City</th>\n      <th>Country</th>\n      <th>Latitude</th>\n      <th>Longitude</th>\n    </tr>\n  </thead>\n  <tbody>\n    <tr>\n      <th>0</th>\n      <td>1743-11-01</td>\n      <td>6.068</td>\n      <td>1.737</td>\n      <td>Århus</td>\n      <td>Denmark</td>\n      <td>57.05N</td>\n      <td>10.33E</td>\n    </tr>\n    <tr>\n      <th>1</th>\n      <td>1743-12-01</td>\n      <td>NaN</td>\n      <td>NaN</td>\n      <td>Århus</td>\n      <td>Denmark</td>\n      <td>57.05N</td>\n      <td>10.33E</td>\n    </tr>\n    <tr>\n      <th>2</th>\n      <td>1744-01-01</td>\n      <td>NaN</td>\n      <td>NaN</td>\n      <td>Århus</td>\n      <td>Denmark</td>\n      <td>57.05N</td>\n      <td>10.33E</td>\n    </tr>\n    <tr>\n      <th>3</th>\n      <td>1744-02-01</td>\n      <td>NaN</td>\n      <td>NaN</td>\n      <td>Århus</td>\n      <td>Denmark</td>\n      <td>57.05N</td>\n      <td>10.33E</td>\n    </tr>\n    <tr>\n      <th>4</th>\n      <td>1744-03-01</td>\n      <td>NaN</td>\n      <td>NaN</td>\n      <td>Århus</td>\n      <td>Denmark</td>\n      <td>57.05N</td>\n      <td>10.33E</td>\n    </tr>\n    <tr>\n      <th>5</th>\n      <td>1744-04-01</td>\n      <td>5.788</td>\n      <td>3.624</td>\n      <td>Århus</td>\n      <td>Denmark</td>\n      <td>57.05N</td>\n      <td>10.33E</td>\n    </tr>\n    <tr>\n      <th>6</th>\n      <td>1744-05-01</td>\n      <td>10.644</td>\n      <td>1.283</td>\n      <td>Århus</td>\n      <td>Denmark</td>\n      <td>57.05N</td>\n      <td>10.33E</td>\n    </tr>\n    <tr>\n      <th>7</th>\n      <td>1744-06-01</td>\n      <td>14.051</td>\n      <td>1.347</td>\n      <td>Århus</td>\n      <td>Denmark</td>\n      <td>57.05N</td>\n      <td>10.33E</td>\n    </tr>\n    <tr>\n      <th>8</th>\n      <td>1744-07-01</td>\n      <td>16.082</td>\n      <td>1.396</td>\n      <td>Århus</td>\n      <td>Denmark</td>\n      <td>57.05N</td>\n      <td>10.33E</td>\n    </tr>\n    <tr>\n      <th>9</th>\n      <td>1744-08-01</td>\n      <td>NaN</td>\n      <td>NaN</td>\n      <td>Århus</td>\n      <td>Denmark</td>\n      <td>57.05N</td>\n      <td>10.33E</td>\n    </tr>\n    <tr>\n      <th>10</th>\n      <td>1744-09-01</td>\n      <td>12.781</td>\n      <td>1.454</td>\n      <td>Århus</td>\n      <td>Denmark</td>\n      <td>57.05N</td>\n      <td>10.33E</td>\n    </tr>\n    <tr>\n      <th>11</th>\n      <td>1744-10-01</td>\n      <td>7.950</td>\n      <td>1.630</td>\n      <td>Århus</td>\n      <td>Denmark</td>\n      <td>57.05N</td>\n      <td>10.33E</td>\n    </tr>\n    <tr>\n      <th>12</th>\n      <td>1744-11-01</td>\n      <td>4.639</td>\n      <td>1.302</td>\n      <td>Århus</td>\n      <td>Denmark</td>\n      <td>57.05N</td>\n      <td>10.33E</td>\n    </tr>\n    <tr>\n      <th>13</th>\n      <td>1744-12-01</td>\n      <td>0.122</td>\n      <td>1.756</td>\n      <td>Århus</td>\n      <td>Denmark</td>\n      <td>57.05N</td>\n      <td>10.33E</td>\n    </tr>\n    <tr>\n      <th>14</th>\n      <td>1745-01-01</td>\n      <td>-1.333</td>\n      <td>1.642</td>\n      <td>Århus</td>\n      <td>Denmark</td>\n      <td>57.05N</td>\n      <td>10.33E</td>\n    </tr>\n    <tr>\n      <th>15</th>\n      <td>1745-02-01</td>\n      <td>-2.732</td>\n      <td>1.358</td>\n      <td>Århus</td>\n      <td>Denmark</td>\n      <td>57.05N</td>\n      <td>10.33E</td>\n    </tr>\n    <tr>\n      <th>16</th>\n      <td>1745-03-01</td>\n      <td>0.129</td>\n      <td>1.088</td>\n      <td>Århus</td>\n      <td>Denmark</td>\n      <td>57.05N</td>\n      <td>10.33E</td>\n    </tr>\n    <tr>\n      <th>17</th>\n      <td>1745-04-01</td>\n      <td>4.042</td>\n      <td>1.138</td>\n      <td>Århus</td>\n      <td>Denmark</td>\n      <td>57.05N</td>\n      <td>10.33E</td>\n    </tr>\n    <tr>\n      <th>18</th>\n      <td>1745-05-01</td>\n      <td>NaN</td>\n      <td>NaN</td>\n      <td>Århus</td>\n      <td>Denmark</td>\n      <td>57.05N</td>\n      <td>10.33E</td>\n    </tr>\n    <tr>\n      <th>19</th>\n      <td>1745-06-01</td>\n      <td>NaN</td>\n      <td>NaN</td>\n      <td>Århus</td>\n      <td>Denmark</td>\n      <td>57.05N</td>\n      <td>10.33E</td>\n    </tr>\n    <tr>\n      <th>20</th>\n      <td>1745-07-01</td>\n      <td>NaN</td>\n      <td>NaN</td>\n      <td>Århus</td>\n      <td>Denmark</td>\n      <td>57.05N</td>\n      <td>10.33E</td>\n    </tr>\n    <tr>\n      <th>21</th>\n      <td>1745-08-01</td>\n      <td>NaN</td>\n      <td>NaN</td>\n      <td>Århus</td>\n      <td>Denmark</td>\n      <td>57.05N</td>\n      <td>10.33E</td>\n    </tr>\n    <tr>\n      <th>22</th>\n      <td>1745-09-01</td>\n      <td>NaN</td>\n      <td>NaN</td>\n      <td>Århus</td>\n      <td>Denmark</td>\n      <td>57.05N</td>\n      <td>10.33E</td>\n    </tr>\n    <tr>\n      <th>23</th>\n      <td>1745-10-01</td>\n      <td>NaN</td>\n      <td>NaN</td>\n      <td>Århus</td>\n      <td>Denmark</td>\n      <td>57.05N</td>\n      <td>10.33E</td>\n    </tr>\n    <tr>\n      <th>24</th>\n      <td>1745-11-01</td>\n      <td>NaN</td>\n      <td>NaN</td>\n      <td>Århus</td>\n      <td>Denmark</td>\n      <td>57.05N</td>\n      <td>10.33E</td>\n    </tr>\n    <tr>\n      <th>25</th>\n      <td>1745-12-01</td>\n      <td>NaN</td>\n      <td>NaN</td>\n      <td>Århus</td>\n      <td>Denmark</td>\n      <td>57.05N</td>\n      <td>10.33E</td>\n    </tr>\n    <tr>\n      <th>26</th>\n      <td>1746-01-01</td>\n      <td>NaN</td>\n      <td>NaN</td>\n      <td>Århus</td>\n      <td>Denmark</td>\n      <td>57.05N</td>\n      <td>10.33E</td>\n    </tr>\n    <tr>\n      <th>27</th>\n      <td>1746-02-01</td>\n      <td>NaN</td>\n      <td>NaN</td>\n      <td>Århus</td>\n      <td>Denmark</td>\n      <td>57.05N</td>\n      <td>10.33E</td>\n    </tr>\n    <tr>\n      <th>28</th>\n      <td>1746-03-01</td>\n      <td>NaN</td>\n      <td>NaN</td>\n      <td>Århus</td>\n      <td>Denmark</td>\n      <td>57.05N</td>\n      <td>10.33E</td>\n    </tr>\n    <tr>\n      <th>29</th>\n      <td>1746-04-01</td>\n      <td>NaN</td>\n      <td>NaN</td>\n      <td>Århus</td>\n      <td>Denmark</td>\n      <td>57.05N</td>\n      <td>10.33E</td>\n    </tr>\n    <tr>\n      <th>30</th>\n      <td>1746-05-01</td>\n      <td>NaN</td>\n      <td>NaN</td>\n      <td>Århus</td>\n      <td>Denmark</td>\n      <td>57.05N</td>\n      <td>10.33E</td>\n    </tr>\n    <tr>\n      <th>31</th>\n      <td>1746-06-01</td>\n      <td>NaN</td>\n      <td>NaN</td>\n      <td>Århus</td>\n      <td>Denmark</td>\n      <td>57.05N</td>\n      <td>10.33E</td>\n    </tr>\n    <tr>\n      <th>32</th>\n      <td>1746-07-01</td>\n      <td>NaN</td>\n      <td>NaN</td>\n      <td>Århus</td>\n      <td>Denmark</td>\n      <td>57.05N</td>\n      <td>10.33E</td>\n    </tr>\n    <tr>\n      <th>33</th>\n      <td>1746-08-01</td>\n      <td>NaN</td>\n      <td>NaN</td>\n      <td>Århus</td>\n      <td>Denmark</td>\n      <td>57.05N</td>\n      <td>10.33E</td>\n    </tr>\n    <tr>\n      <th>34</th>\n      <td>1746-09-01</td>\n      <td>NaN</td>\n      <td>NaN</td>\n      <td>Århus</td>\n      <td>Denmark</td>\n      <td>57.05N</td>\n      <td>10.33E</td>\n    </tr>\n    <tr>\n      <th>35</th>\n      <td>1746-10-01</td>\n      <td>NaN</td>\n      <td>NaN</td>\n      <td>Århus</td>\n      <td>Denmark</td>\n      <td>57.05N</td>\n      <td>10.33E</td>\n    </tr>\n    <tr>\n      <th>36</th>\n      <td>1746-11-01</td>\n      <td>NaN</td>\n      <td>NaN</td>\n      <td>Århus</td>\n      <td>Denmark</td>\n      <td>57.05N</td>\n      <td>10.33E</td>\n    </tr>\n    <tr>\n      <th>37</th>\n      <td>1746-12-01</td>\n      <td>NaN</td>\n      <td>NaN</td>\n      <td>Århus</td>\n      <td>Denmark</td>\n      <td>57.05N</td>\n      <td>10.33E</td>\n    </tr>\n    <tr>\n      <th>38</th>\n      <td>1747-01-01</td>\n      <td>NaN</td>\n      <td>NaN</td>\n      <td>Århus</td>\n      <td>Denmark</td>\n      <td>57.05N</td>\n      <td>10.33E</td>\n    </tr>\n    <tr>\n      <th>39</th>\n      <td>1747-02-01</td>\n      <td>NaN</td>\n      <td>NaN</td>\n      <td>Århus</td>\n      <td>Denmark</td>\n      <td>57.05N</td>\n      <td>10.33E</td>\n    </tr>\n    <tr>\n      <th>40</th>\n      <td>1747-03-01</td>\n      <td>NaN</td>\n      <td>NaN</td>\n      <td>Århus</td>\n      <td>Denmark</td>\n      <td>57.05N</td>\n      <td>10.33E</td>\n    </tr>\n    <tr>\n      <th>41</th>\n      <td>1747-04-01</td>\n      <td>NaN</td>\n      <td>NaN</td>\n      <td>Århus</td>\n      <td>Denmark</td>\n      <td>57.05N</td>\n      <td>10.33E</td>\n    </tr>\n    <tr>\n      <th>42</th>\n      <td>1747-05-01</td>\n      <td>NaN</td>\n      <td>NaN</td>\n      <td>Århus</td>\n      <td>Denmark</td>\n      <td>57.05N</td>\n      <td>10.33E</td>\n    </tr>\n    <tr>\n      <th>43</th>\n      <td>1747-06-01</td>\n      <td>NaN</td>\n      <td>NaN</td>\n      <td>Århus</td>\n      <td>Denmark</td>\n      <td>57.05N</td>\n      <td>10.33E</td>\n    </tr>\n    <tr>\n      <th>44</th>\n      <td>1747-07-01</td>\n      <td>NaN</td>\n      <td>NaN</td>\n      <td>Århus</td>\n      <td>Denmark</td>\n      <td>57.05N</td>\n      <td>10.33E</td>\n    </tr>\n    <tr>\n      <th>45</th>\n      <td>1747-08-01</td>\n      <td>NaN</td>\n      <td>NaN</td>\n      <td>Århus</td>\n      <td>Denmark</td>\n      <td>57.05N</td>\n      <td>10.33E</td>\n    </tr>\n    <tr>\n      <th>46</th>\n      <td>1747-09-01</td>\n      <td>NaN</td>\n      <td>NaN</td>\n      <td>Århus</td>\n      <td>Denmark</td>\n      <td>57.05N</td>\n      <td>10.33E</td>\n    </tr>\n    <tr>\n      <th>47</th>\n      <td>1747-10-01</td>\n      <td>NaN</td>\n      <td>NaN</td>\n      <td>Århus</td>\n      <td>Denmark</td>\n      <td>57.05N</td>\n      <td>10.33E</td>\n    </tr>\n    <tr>\n      <th>48</th>\n      <td>1747-11-01</td>\n      <td>NaN</td>\n      <td>NaN</td>\n      <td>Århus</td>\n      <td>Denmark</td>\n      <td>57.05N</td>\n      <td>10.33E</td>\n    </tr>\n    <tr>\n      <th>49</th>\n      <td>1747-12-01</td>\n      <td>NaN</td>\n      <td>NaN</td>\n      <td>Århus</td>\n      <td>Denmark</td>\n      <td>57.05N</td>\n      <td>10.33E</td>\n    </tr>\n  </tbody>\n</table>\n</div>"
     },
     "metadata": {},
     "execution_count": 12
    }
   ],
   "source": [
    "temp_df = pd.read_csv(\"./Data/GlobalLandTemperaturesByCity.csv\")\n",
    "temp_df.head(50)"
   ]
  },
  {
   "cell_type": "code",
   "execution_count": 25,
   "metadata": {},
   "outputs": [
    {
     "output_type": "stream",
     "name": "stdout",
     "text": [
      "<class 'pandas.core.frame.DataFrame'>\nRangeIndex: 8599212 entries, 0 to 8599211\nData columns (total 7 columns):\n #   Column                         Dtype  \n---  ------                         -----  \n 0   dt                             object \n 1   AverageTemperature             float64\n 2   AverageTemperatureUncertainty  float64\n 3   City                           object \n 4   Country                        object \n 5   Latitude                       object \n 6   Longitude                      object \ndtypes: float64(2), object(5)\nmemory usage: 459.2+ MB\n"
     ]
    }
   ],
   "source": [
    "temp_df.info()"
   ]
  },
  {
   "cell_type": "code",
   "execution_count": 34,
   "metadata": {},
   "outputs": [
    {
     "output_type": "execute_result",
     "data": {
      "text/plain": [
       "159"
      ]
     },
     "metadata": {},
     "execution_count": 34
    }
   ],
   "source": [
    "temp_df[\"Country\"].nunique()"
   ]
  },
  {
   "cell_type": "code",
   "execution_count": 14,
   "metadata": {},
   "outputs": [
    {
     "output_type": "execute_result",
     "data": {
      "text/plain": [
       "        Entity Code  Year  Total GHG emissions including LUCF (CAIT)\n",
       "0  Afghanistan  AFG  1990                                 15140000.0\n",
       "1  Afghanistan  AFG  1991                                 15060000.0\n",
       "2  Afghanistan  AFG  1992                                 13600000.0\n",
       "3  Afghanistan  AFG  1993                                 13430000.0\n",
       "4  Afghanistan  AFG  1994                                 13240000.0"
      ],
      "text/html": "<div>\n<style scoped>\n    .dataframe tbody tr th:only-of-type {\n        vertical-align: middle;\n    }\n\n    .dataframe tbody tr th {\n        vertical-align: top;\n    }\n\n    .dataframe thead th {\n        text-align: right;\n    }\n</style>\n<table border=\"1\" class=\"dataframe\">\n  <thead>\n    <tr style=\"text-align: right;\">\n      <th></th>\n      <th>Entity</th>\n      <th>Code</th>\n      <th>Year</th>\n      <th>Total GHG emissions including LUCF (CAIT)</th>\n    </tr>\n  </thead>\n  <tbody>\n    <tr>\n      <th>0</th>\n      <td>Afghanistan</td>\n      <td>AFG</td>\n      <td>1990</td>\n      <td>15140000.0</td>\n    </tr>\n    <tr>\n      <th>1</th>\n      <td>Afghanistan</td>\n      <td>AFG</td>\n      <td>1991</td>\n      <td>15060000.0</td>\n    </tr>\n    <tr>\n      <th>2</th>\n      <td>Afghanistan</td>\n      <td>AFG</td>\n      <td>1992</td>\n      <td>13600000.0</td>\n    </tr>\n    <tr>\n      <th>3</th>\n      <td>Afghanistan</td>\n      <td>AFG</td>\n      <td>1993</td>\n      <td>13430000.0</td>\n    </tr>\n    <tr>\n      <th>4</th>\n      <td>Afghanistan</td>\n      <td>AFG</td>\n      <td>1994</td>\n      <td>13240000.0</td>\n    </tr>\n  </tbody>\n</table>\n</div>"
     },
     "metadata": {},
     "execution_count": 14
    }
   ],
   "source": [
    "emis_df = pd.read_csv(\"./Data/TotalGHGEmissions.csv\")\n",
    "emis_df.head()"
   ]
  },
  {
   "cell_type": "code",
   "execution_count": 26,
   "metadata": {},
   "outputs": [
    {
     "output_type": "stream",
     "name": "stdout",
     "text": [
      "<class 'pandas.core.frame.DataFrame'>\nRangeIndex: 5208 entries, 0 to 5207\nData columns (total 4 columns):\n #   Column                                     Non-Null Count  Dtype  \n---  ------                                     --------------  -----  \n 0   Entity                                     5208 non-null   object \n 1   Code                                       5155 non-null   object \n 2   Year                                       5208 non-null   int64  \n 3   Total GHG emissions including LUCF (CAIT)  5208 non-null   float64\ndtypes: float64(1), int64(1), object(2)\nmemory usage: 162.9+ KB\n"
     ]
    }
   ],
   "source": [
    "emis_df.info()\n"
   ]
  },
  {
   "cell_type": "code",
   "execution_count": 33,
   "metadata": {},
   "outputs": [
    {
     "output_type": "execute_result",
     "data": {
      "text/plain": [
       "193"
      ]
     },
     "metadata": {},
     "execution_count": 33
    }
   ],
   "source": [
    "emis_df[\"Entity\"].nunique()"
   ]
  },
  {
   "cell_type": "code",
   "execution_count": 29,
   "metadata": {},
   "outputs": [
    {
     "output_type": "execute_result",
     "data": {
      "text/plain": [
       "   Continent_Name Continent_Code  \\\n",
       "0            Asia             AS   \n",
       "1          Europe             EU   \n",
       "2      Antarctica             AN   \n",
       "3          Africa             AF   \n",
       "4         Oceania             OC   \n",
       "5          Europe             EU   \n",
       "6          Africa             AF   \n",
       "7   North America            NaN   \n",
       "8          Europe             EU   \n",
       "9            Asia             AS   \n",
       "10  South America             SA   \n",
       "11        Oceania             OC   \n",
       "12         Europe             EU   \n",
       "13  North America            NaN   \n",
       "14           Asia             AS   \n",
       "15           Asia             AS   \n",
       "16         Europe             EU   \n",
       "17           Asia             AS   \n",
       "18  North America            NaN   \n",
       "19         Europe             EU   \n",
       "\n",
       "                                    Country_Name Two_Letter_Country_Code  \\\n",
       "0               Afghanistan, Islamic Republic of                      AF   \n",
       "1                           Albania, Republic of                      AL   \n",
       "2   Antarctica (the territory South of 60 deg S)                      AQ   \n",
       "3       Algeria, People's Democratic Republic of                      DZ   \n",
       "4                                 American Samoa                      AS   \n",
       "5                       Andorra, Principality of                      AD   \n",
       "6                            Angola, Republic of                      AO   \n",
       "7                            Antigua and Barbuda                      AG   \n",
       "8                        Azerbaijan, Republic of                      AZ   \n",
       "9                        Azerbaijan, Republic of                      AZ   \n",
       "10                 Argentina, Argentine Republic                      AR   \n",
       "11                    Australia, Commonwealth of                      AU   \n",
       "12                          Austria, Republic of                      AT   \n",
       "13                  Bahamas, Commonwealth of the                      BS   \n",
       "14                           Bahrain, Kingdom of                      BH   \n",
       "15              Bangladesh, People's Republic of                      BD   \n",
       "16                          Armenia, Republic of                      AM   \n",
       "17                          Armenia, Republic of                      AM   \n",
       "18                                      Barbados                      BB   \n",
       "19                           Belgium, Kingdom of                      BE   \n",
       "\n",
       "   Three_Letter_Country_Code  Country_Number  \n",
       "0                        AFG             4.0  \n",
       "1                        ALB             8.0  \n",
       "2                        ATA            10.0  \n",
       "3                        DZA            12.0  \n",
       "4                        ASM            16.0  \n",
       "5                        AND            20.0  \n",
       "6                        AGO            24.0  \n",
       "7                        ATG            28.0  \n",
       "8                        AZE            31.0  \n",
       "9                        AZE            31.0  \n",
       "10                       ARG            32.0  \n",
       "11                       AUS            36.0  \n",
       "12                       AUT            40.0  \n",
       "13                       BHS            44.0  \n",
       "14                       BHR            48.0  \n",
       "15                       BGD            50.0  \n",
       "16                       ARM            51.0  \n",
       "17                       ARM            51.0  \n",
       "18                       BRB            52.0  \n",
       "19                       BEL            56.0  "
      ],
      "text/html": "<div>\n<style scoped>\n    .dataframe tbody tr th:only-of-type {\n        vertical-align: middle;\n    }\n\n    .dataframe tbody tr th {\n        vertical-align: top;\n    }\n\n    .dataframe thead th {\n        text-align: right;\n    }\n</style>\n<table border=\"1\" class=\"dataframe\">\n  <thead>\n    <tr style=\"text-align: right;\">\n      <th></th>\n      <th>Continent_Name</th>\n      <th>Continent_Code</th>\n      <th>Country_Name</th>\n      <th>Two_Letter_Country_Code</th>\n      <th>Three_Letter_Country_Code</th>\n      <th>Country_Number</th>\n    </tr>\n  </thead>\n  <tbody>\n    <tr>\n      <th>0</th>\n      <td>Asia</td>\n      <td>AS</td>\n      <td>Afghanistan, Islamic Republic of</td>\n      <td>AF</td>\n      <td>AFG</td>\n      <td>4.0</td>\n    </tr>\n    <tr>\n      <th>1</th>\n      <td>Europe</td>\n      <td>EU</td>\n      <td>Albania, Republic of</td>\n      <td>AL</td>\n      <td>ALB</td>\n      <td>8.0</td>\n    </tr>\n    <tr>\n      <th>2</th>\n      <td>Antarctica</td>\n      <td>AN</td>\n      <td>Antarctica (the territory South of 60 deg S)</td>\n      <td>AQ</td>\n      <td>ATA</td>\n      <td>10.0</td>\n    </tr>\n    <tr>\n      <th>3</th>\n      <td>Africa</td>\n      <td>AF</td>\n      <td>Algeria, People's Democratic Republic of</td>\n      <td>DZ</td>\n      <td>DZA</td>\n      <td>12.0</td>\n    </tr>\n    <tr>\n      <th>4</th>\n      <td>Oceania</td>\n      <td>OC</td>\n      <td>American Samoa</td>\n      <td>AS</td>\n      <td>ASM</td>\n      <td>16.0</td>\n    </tr>\n    <tr>\n      <th>5</th>\n      <td>Europe</td>\n      <td>EU</td>\n      <td>Andorra, Principality of</td>\n      <td>AD</td>\n      <td>AND</td>\n      <td>20.0</td>\n    </tr>\n    <tr>\n      <th>6</th>\n      <td>Africa</td>\n      <td>AF</td>\n      <td>Angola, Republic of</td>\n      <td>AO</td>\n      <td>AGO</td>\n      <td>24.0</td>\n    </tr>\n    <tr>\n      <th>7</th>\n      <td>North America</td>\n      <td>NaN</td>\n      <td>Antigua and Barbuda</td>\n      <td>AG</td>\n      <td>ATG</td>\n      <td>28.0</td>\n    </tr>\n    <tr>\n      <th>8</th>\n      <td>Europe</td>\n      <td>EU</td>\n      <td>Azerbaijan, Republic of</td>\n      <td>AZ</td>\n      <td>AZE</td>\n      <td>31.0</td>\n    </tr>\n    <tr>\n      <th>9</th>\n      <td>Asia</td>\n      <td>AS</td>\n      <td>Azerbaijan, Republic of</td>\n      <td>AZ</td>\n      <td>AZE</td>\n      <td>31.0</td>\n    </tr>\n    <tr>\n      <th>10</th>\n      <td>South America</td>\n      <td>SA</td>\n      <td>Argentina, Argentine Republic</td>\n      <td>AR</td>\n      <td>ARG</td>\n      <td>32.0</td>\n    </tr>\n    <tr>\n      <th>11</th>\n      <td>Oceania</td>\n      <td>OC</td>\n      <td>Australia, Commonwealth of</td>\n      <td>AU</td>\n      <td>AUS</td>\n      <td>36.0</td>\n    </tr>\n    <tr>\n      <th>12</th>\n      <td>Europe</td>\n      <td>EU</td>\n      <td>Austria, Republic of</td>\n      <td>AT</td>\n      <td>AUT</td>\n      <td>40.0</td>\n    </tr>\n    <tr>\n      <th>13</th>\n      <td>North America</td>\n      <td>NaN</td>\n      <td>Bahamas, Commonwealth of the</td>\n      <td>BS</td>\n      <td>BHS</td>\n      <td>44.0</td>\n    </tr>\n    <tr>\n      <th>14</th>\n      <td>Asia</td>\n      <td>AS</td>\n      <td>Bahrain, Kingdom of</td>\n      <td>BH</td>\n      <td>BHR</td>\n      <td>48.0</td>\n    </tr>\n    <tr>\n      <th>15</th>\n      <td>Asia</td>\n      <td>AS</td>\n      <td>Bangladesh, People's Republic of</td>\n      <td>BD</td>\n      <td>BGD</td>\n      <td>50.0</td>\n    </tr>\n    <tr>\n      <th>16</th>\n      <td>Europe</td>\n      <td>EU</td>\n      <td>Armenia, Republic of</td>\n      <td>AM</td>\n      <td>ARM</td>\n      <td>51.0</td>\n    </tr>\n    <tr>\n      <th>17</th>\n      <td>Asia</td>\n      <td>AS</td>\n      <td>Armenia, Republic of</td>\n      <td>AM</td>\n      <td>ARM</td>\n      <td>51.0</td>\n    </tr>\n    <tr>\n      <th>18</th>\n      <td>North America</td>\n      <td>NaN</td>\n      <td>Barbados</td>\n      <td>BB</td>\n      <td>BRB</td>\n      <td>52.0</td>\n    </tr>\n    <tr>\n      <th>19</th>\n      <td>Europe</td>\n      <td>EU</td>\n      <td>Belgium, Kingdom of</td>\n      <td>BE</td>\n      <td>BEL</td>\n      <td>56.0</td>\n    </tr>\n  </tbody>\n</table>\n</div>"
     },
     "metadata": {},
     "execution_count": 29
    }
   ],
   "source": [
    "country_df = pd.read_csv(\"./Data/country.csv\")\n",
    "country_df.head(20)"
   ]
  },
  {
   "cell_type": "code",
   "execution_count": 28,
   "metadata": {},
   "outputs": [
    {
     "output_type": "stream",
     "name": "stdout",
     "text": [
      "<class 'pandas.core.frame.DataFrame'>\nRangeIndex: 262 entries, 0 to 261\nData columns (total 6 columns):\n #   Column                     Non-Null Count  Dtype  \n---  ------                     --------------  -----  \n 0   Continent_Name             262 non-null    object \n 1   Continent_Code             219 non-null    object \n 2   Country_Name               262 non-null    object \n 3   Two_Letter_Country_Code    261 non-null    object \n 4   Three_Letter_Country_Code  258 non-null    object \n 5   Country_Number             258 non-null    float64\ndtypes: float64(1), object(5)\nmemory usage: 12.4+ KB\n"
     ]
    }
   ],
   "source": [
    "country_df.info()"
   ]
  },
  {
   "cell_type": "code",
   "execution_count": 36,
   "metadata": {},
   "outputs": [
    {
     "output_type": "execute_result",
     "data": {
      "text/plain": [
       "254"
      ]
     },
     "metadata": {},
     "execution_count": 36
    }
   ],
   "source": [
    "country_df[\"Country_Name\"].nunique()"
   ]
  },
  {
   "cell_type": "code",
   "execution_count": 37,
   "metadata": {},
   "outputs": [
    {
     "output_type": "execute_result",
     "data": {
      "text/plain": [
       "         Entity Code  Year  \\\n",
       "0   Afghanistan  AFG  1961   \n",
       "1   Afghanistan  AFG  1962   \n",
       "2   Afghanistan  AFG  1963   \n",
       "3   Afghanistan  AFG  1964   \n",
       "4   Afghanistan  AFG  1965   \n",
       "5   Afghanistan  AFG  1966   \n",
       "6   Afghanistan  AFG  1967   \n",
       "7   Afghanistan  AFG  1968   \n",
       "8   Afghanistan  AFG  1969   \n",
       "9   Afghanistan  AFG  1970   \n",
       "10  Afghanistan  AFG  1971   \n",
       "11  Afghanistan  AFG  1972   \n",
       "12  Afghanistan  AFG  1973   \n",
       "13  Afghanistan  AFG  1974   \n",
       "14  Afghanistan  AFG  1975   \n",
       "15  Afghanistan  AFG  1976   \n",
       "16  Afghanistan  AFG  1977   \n",
       "17  Afghanistan  AFG  1978   \n",
       "18  Afghanistan  AFG  1979   \n",
       "19  Afghanistan  AFG  1980   \n",
       "\n",
       "    Population density (people per sq. km of land area)  \n",
       "0                                           14.040934    \n",
       "1                                           14.315271    \n",
       "2                                           14.603367    \n",
       "3                                           14.905739    \n",
       "4                                           15.222887    \n",
       "5                                           15.550548    \n",
       "6                                           15.887985    \n",
       "7                                           16.242910    \n",
       "8                                           16.625966    \n",
       "9                                           17.042127    \n",
       "10                                          17.488933    \n",
       "11                                          17.954753    \n",
       "12                                          18.423279    \n",
       "13                                          18.873175    \n",
       "14                                          19.284818    \n",
       "15                                          19.667768    \n",
       "16                                          20.015835    \n",
       "17                                          20.276528    \n",
       "18                                          20.382157    \n",
       "19                                          20.292819    "
      ],
      "text/html": "<div>\n<style scoped>\n    .dataframe tbody tr th:only-of-type {\n        vertical-align: middle;\n    }\n\n    .dataframe tbody tr th {\n        vertical-align: top;\n    }\n\n    .dataframe thead th {\n        text-align: right;\n    }\n</style>\n<table border=\"1\" class=\"dataframe\">\n  <thead>\n    <tr style=\"text-align: right;\">\n      <th></th>\n      <th>Entity</th>\n      <th>Code</th>\n      <th>Year</th>\n      <th>Population density (people per sq. km of land area)</th>\n    </tr>\n  </thead>\n  <tbody>\n    <tr>\n      <th>0</th>\n      <td>Afghanistan</td>\n      <td>AFG</td>\n      <td>1961</td>\n      <td>14.040934</td>\n    </tr>\n    <tr>\n      <th>1</th>\n      <td>Afghanistan</td>\n      <td>AFG</td>\n      <td>1962</td>\n      <td>14.315271</td>\n    </tr>\n    <tr>\n      <th>2</th>\n      <td>Afghanistan</td>\n      <td>AFG</td>\n      <td>1963</td>\n      <td>14.603367</td>\n    </tr>\n    <tr>\n      <th>3</th>\n      <td>Afghanistan</td>\n      <td>AFG</td>\n      <td>1964</td>\n      <td>14.905739</td>\n    </tr>\n    <tr>\n      <th>4</th>\n      <td>Afghanistan</td>\n      <td>AFG</td>\n      <td>1965</td>\n      <td>15.222887</td>\n    </tr>\n    <tr>\n      <th>5</th>\n      <td>Afghanistan</td>\n      <td>AFG</td>\n      <td>1966</td>\n      <td>15.550548</td>\n    </tr>\n    <tr>\n      <th>6</th>\n      <td>Afghanistan</td>\n      <td>AFG</td>\n      <td>1967</td>\n      <td>15.887985</td>\n    </tr>\n    <tr>\n      <th>7</th>\n      <td>Afghanistan</td>\n      <td>AFG</td>\n      <td>1968</td>\n      <td>16.242910</td>\n    </tr>\n    <tr>\n      <th>8</th>\n      <td>Afghanistan</td>\n      <td>AFG</td>\n      <td>1969</td>\n      <td>16.625966</td>\n    </tr>\n    <tr>\n      <th>9</th>\n      <td>Afghanistan</td>\n      <td>AFG</td>\n      <td>1970</td>\n      <td>17.042127</td>\n    </tr>\n    <tr>\n      <th>10</th>\n      <td>Afghanistan</td>\n      <td>AFG</td>\n      <td>1971</td>\n      <td>17.488933</td>\n    </tr>\n    <tr>\n      <th>11</th>\n      <td>Afghanistan</td>\n      <td>AFG</td>\n      <td>1972</td>\n      <td>17.954753</td>\n    </tr>\n    <tr>\n      <th>12</th>\n      <td>Afghanistan</td>\n      <td>AFG</td>\n      <td>1973</td>\n      <td>18.423279</td>\n    </tr>\n    <tr>\n      <th>13</th>\n      <td>Afghanistan</td>\n      <td>AFG</td>\n      <td>1974</td>\n      <td>18.873175</td>\n    </tr>\n    <tr>\n      <th>14</th>\n      <td>Afghanistan</td>\n      <td>AFG</td>\n      <td>1975</td>\n      <td>19.284818</td>\n    </tr>\n    <tr>\n      <th>15</th>\n      <td>Afghanistan</td>\n      <td>AFG</td>\n      <td>1976</td>\n      <td>19.667768</td>\n    </tr>\n    <tr>\n      <th>16</th>\n      <td>Afghanistan</td>\n      <td>AFG</td>\n      <td>1977</td>\n      <td>20.015835</td>\n    </tr>\n    <tr>\n      <th>17</th>\n      <td>Afghanistan</td>\n      <td>AFG</td>\n      <td>1978</td>\n      <td>20.276528</td>\n    </tr>\n    <tr>\n      <th>18</th>\n      <td>Afghanistan</td>\n      <td>AFG</td>\n      <td>1979</td>\n      <td>20.382157</td>\n    </tr>\n    <tr>\n      <th>19</th>\n      <td>Afghanistan</td>\n      <td>AFG</td>\n      <td>1980</td>\n      <td>20.292819</td>\n    </tr>\n  </tbody>\n</table>\n</div>"
     },
     "metadata": {},
     "execution_count": 37
    }
   ],
   "source": [
    "population_df = pd.read_csv(\"./Data/PopulationDensity.csv\")\n",
    "population_df.head(20)"
   ]
  },
  {
   "cell_type": "code",
   "execution_count": 38,
   "metadata": {},
   "outputs": [
    {
     "output_type": "stream",
     "name": "stdout",
     "text": [
      "<class 'pandas.core.frame.DataFrame'>\nRangeIndex: 14600 entries, 0 to 14599\nData columns (total 4 columns):\n #   Column                                               Non-Null Count  Dtype  \n---  ------                                               --------------  -----  \n 0   Entity                                               14600 non-null  object \n 1   Code                                                 11978 non-null  object \n 2   Year                                                 14600 non-null  int64  \n 3   Population density (people per sq. km of land area)  14600 non-null  float64\ndtypes: float64(1), int64(1), object(2)\nmemory usage: 456.4+ KB\n"
     ]
    }
   ],
   "source": [
    "population_df.info()"
   ]
  },
  {
   "cell_type": "code",
   "execution_count": null,
   "metadata": {},
   "outputs": [],
   "source": [
    "population_df[\"Entity\"].nunique"
   ]
  },
  {
   "cell_type": "code",
   "execution_count": 16,
   "metadata": {},
   "outputs": [
    {
     "output_type": "execute_result",
     "data": {
      "text/plain": [
       "(1000350, 7)"
      ]
     },
     "metadata": {},
     "execution_count": 16
    }
   ],
   "source": [
    "t = pd.to_datetime(temp_df[\"dt\"])\n",
    "temp_df_truncated = temp_df[t.dt.year > 1989]\n",
    "temp_df_truncated.shape\n",
    "\n"
   ]
  },
  {
   "cell_type": "code",
   "execution_count": 18,
   "metadata": {},
   "outputs": [
    {
     "output_type": "execute_result",
     "data": {
      "text/plain": [
       "              dt  AverageTemperature  AverageTemperatureUncertainty   City  \\\n",
       "2954  1990-01-01               4.267                          0.459  Århus   \n",
       "2955  1990-02-01               5.895                          0.460  Århus   \n",
       "2956  1990-03-01               6.565                          0.299  Århus   \n",
       "2957  1990-04-01               8.068                          0.222  Århus   \n",
       "2958  1990-05-01              12.944                          0.287  Århus   \n",
       "2959  1990-06-01              15.672                          0.403  Århus   \n",
       "2960  1990-07-01              16.844                          0.319  Århus   \n",
       "2961  1990-08-01              17.402                          0.208  Århus   \n",
       "2962  1990-09-01              12.446                          0.393  Århus   \n",
       "2963  1990-10-01               9.409                          0.240  Århus   \n",
       "2964  1990-11-01               4.027                          0.393  Århus   \n",
       "2965  1990-12-01               2.547                          0.277  Århus   \n",
       "2966  1991-01-01               2.088                          0.383  Århus   \n",
       "2967  1991-02-01              -0.714                          0.192  Århus   \n",
       "2968  1991-03-01               4.386                          0.341  Århus   \n",
       "2969  1991-04-01               6.804                          0.164  Århus   \n",
       "2970  1991-05-01              10.335                          0.164  Århus   \n",
       "2971  1991-06-01              12.632                          0.265  Århus   \n",
       "2972  1991-07-01              18.301                          0.219  Århus   \n",
       "2973  1991-08-01              17.506                          0.227  Århus   \n",
       "\n",
       "      Country Latitude Longitude  \n",
       "2954  Denmark   57.05N    10.33E  \n",
       "2955  Denmark   57.05N    10.33E  \n",
       "2956  Denmark   57.05N    10.33E  \n",
       "2957  Denmark   57.05N    10.33E  \n",
       "2958  Denmark   57.05N    10.33E  \n",
       "2959  Denmark   57.05N    10.33E  \n",
       "2960  Denmark   57.05N    10.33E  \n",
       "2961  Denmark   57.05N    10.33E  \n",
       "2962  Denmark   57.05N    10.33E  \n",
       "2963  Denmark   57.05N    10.33E  \n",
       "2964  Denmark   57.05N    10.33E  \n",
       "2965  Denmark   57.05N    10.33E  \n",
       "2966  Denmark   57.05N    10.33E  \n",
       "2967  Denmark   57.05N    10.33E  \n",
       "2968  Denmark   57.05N    10.33E  \n",
       "2969  Denmark   57.05N    10.33E  \n",
       "2970  Denmark   57.05N    10.33E  \n",
       "2971  Denmark   57.05N    10.33E  \n",
       "2972  Denmark   57.05N    10.33E  \n",
       "2973  Denmark   57.05N    10.33E  "
      ],
      "text/html": "<div>\n<style scoped>\n    .dataframe tbody tr th:only-of-type {\n        vertical-align: middle;\n    }\n\n    .dataframe tbody tr th {\n        vertical-align: top;\n    }\n\n    .dataframe thead th {\n        text-align: right;\n    }\n</style>\n<table border=\"1\" class=\"dataframe\">\n  <thead>\n    <tr style=\"text-align: right;\">\n      <th></th>\n      <th>dt</th>\n      <th>AverageTemperature</th>\n      <th>AverageTemperatureUncertainty</th>\n      <th>City</th>\n      <th>Country</th>\n      <th>Latitude</th>\n      <th>Longitude</th>\n    </tr>\n  </thead>\n  <tbody>\n    <tr>\n      <th>2954</th>\n      <td>1990-01-01</td>\n      <td>4.267</td>\n      <td>0.459</td>\n      <td>Århus</td>\n      <td>Denmark</td>\n      <td>57.05N</td>\n      <td>10.33E</td>\n    </tr>\n    <tr>\n      <th>2955</th>\n      <td>1990-02-01</td>\n      <td>5.895</td>\n      <td>0.460</td>\n      <td>Århus</td>\n      <td>Denmark</td>\n      <td>57.05N</td>\n      <td>10.33E</td>\n    </tr>\n    <tr>\n      <th>2956</th>\n      <td>1990-03-01</td>\n      <td>6.565</td>\n      <td>0.299</td>\n      <td>Århus</td>\n      <td>Denmark</td>\n      <td>57.05N</td>\n      <td>10.33E</td>\n    </tr>\n    <tr>\n      <th>2957</th>\n      <td>1990-04-01</td>\n      <td>8.068</td>\n      <td>0.222</td>\n      <td>Århus</td>\n      <td>Denmark</td>\n      <td>57.05N</td>\n      <td>10.33E</td>\n    </tr>\n    <tr>\n      <th>2958</th>\n      <td>1990-05-01</td>\n      <td>12.944</td>\n      <td>0.287</td>\n      <td>Århus</td>\n      <td>Denmark</td>\n      <td>57.05N</td>\n      <td>10.33E</td>\n    </tr>\n    <tr>\n      <th>2959</th>\n      <td>1990-06-01</td>\n      <td>15.672</td>\n      <td>0.403</td>\n      <td>Århus</td>\n      <td>Denmark</td>\n      <td>57.05N</td>\n      <td>10.33E</td>\n    </tr>\n    <tr>\n      <th>2960</th>\n      <td>1990-07-01</td>\n      <td>16.844</td>\n      <td>0.319</td>\n      <td>Århus</td>\n      <td>Denmark</td>\n      <td>57.05N</td>\n      <td>10.33E</td>\n    </tr>\n    <tr>\n      <th>2961</th>\n      <td>1990-08-01</td>\n      <td>17.402</td>\n      <td>0.208</td>\n      <td>Århus</td>\n      <td>Denmark</td>\n      <td>57.05N</td>\n      <td>10.33E</td>\n    </tr>\n    <tr>\n      <th>2962</th>\n      <td>1990-09-01</td>\n      <td>12.446</td>\n      <td>0.393</td>\n      <td>Århus</td>\n      <td>Denmark</td>\n      <td>57.05N</td>\n      <td>10.33E</td>\n    </tr>\n    <tr>\n      <th>2963</th>\n      <td>1990-10-01</td>\n      <td>9.409</td>\n      <td>0.240</td>\n      <td>Århus</td>\n      <td>Denmark</td>\n      <td>57.05N</td>\n      <td>10.33E</td>\n    </tr>\n    <tr>\n      <th>2964</th>\n      <td>1990-11-01</td>\n      <td>4.027</td>\n      <td>0.393</td>\n      <td>Århus</td>\n      <td>Denmark</td>\n      <td>57.05N</td>\n      <td>10.33E</td>\n    </tr>\n    <tr>\n      <th>2965</th>\n      <td>1990-12-01</td>\n      <td>2.547</td>\n      <td>0.277</td>\n      <td>Århus</td>\n      <td>Denmark</td>\n      <td>57.05N</td>\n      <td>10.33E</td>\n    </tr>\n    <tr>\n      <th>2966</th>\n      <td>1991-01-01</td>\n      <td>2.088</td>\n      <td>0.383</td>\n      <td>Århus</td>\n      <td>Denmark</td>\n      <td>57.05N</td>\n      <td>10.33E</td>\n    </tr>\n    <tr>\n      <th>2967</th>\n      <td>1991-02-01</td>\n      <td>-0.714</td>\n      <td>0.192</td>\n      <td>Århus</td>\n      <td>Denmark</td>\n      <td>57.05N</td>\n      <td>10.33E</td>\n    </tr>\n    <tr>\n      <th>2968</th>\n      <td>1991-03-01</td>\n      <td>4.386</td>\n      <td>0.341</td>\n      <td>Århus</td>\n      <td>Denmark</td>\n      <td>57.05N</td>\n      <td>10.33E</td>\n    </tr>\n    <tr>\n      <th>2969</th>\n      <td>1991-04-01</td>\n      <td>6.804</td>\n      <td>0.164</td>\n      <td>Århus</td>\n      <td>Denmark</td>\n      <td>57.05N</td>\n      <td>10.33E</td>\n    </tr>\n    <tr>\n      <th>2970</th>\n      <td>1991-05-01</td>\n      <td>10.335</td>\n      <td>0.164</td>\n      <td>Århus</td>\n      <td>Denmark</td>\n      <td>57.05N</td>\n      <td>10.33E</td>\n    </tr>\n    <tr>\n      <th>2971</th>\n      <td>1991-06-01</td>\n      <td>12.632</td>\n      <td>0.265</td>\n      <td>Århus</td>\n      <td>Denmark</td>\n      <td>57.05N</td>\n      <td>10.33E</td>\n    </tr>\n    <tr>\n      <th>2972</th>\n      <td>1991-07-01</td>\n      <td>18.301</td>\n      <td>0.219</td>\n      <td>Århus</td>\n      <td>Denmark</td>\n      <td>57.05N</td>\n      <td>10.33E</td>\n    </tr>\n    <tr>\n      <th>2973</th>\n      <td>1991-08-01</td>\n      <td>17.506</td>\n      <td>0.227</td>\n      <td>Århus</td>\n      <td>Denmark</td>\n      <td>57.05N</td>\n      <td>10.33E</td>\n    </tr>\n  </tbody>\n</table>\n</div>"
     },
     "metadata": {},
     "execution_count": 18
    }
   ],
   "source": [
    "temp_df_truncated.head(20)"
   ]
  },
  {
   "cell_type": "code",
   "execution_count": null,
   "metadata": {},
   "outputs": [],
   "source": []
  }
 ]
}