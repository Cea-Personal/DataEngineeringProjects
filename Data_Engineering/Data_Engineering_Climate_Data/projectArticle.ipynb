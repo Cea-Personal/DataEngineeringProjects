{
 "metadata": {
  "language_info": {
   "codemirror_mode": {
    "name": "ipython",
    "version": 3
   },
   "file_extension": ".py",
   "mimetype": "text/x-python",
   "name": "python",
   "nbconvert_exporter": "python",
   "pygments_lexer": "ipython3",
   "version": 3
  },
  "orig_nbformat": 4
 },
 "nbformat": 4,
 "nbformat_minor": 2,
 "cells": [
  {
   "source": [
    "# Analysing the Effect of Green House Gases on Climatic Temperatures"
   ],
   "cell_type": "markdown",
   "metadata": {}
  },
  {
   "cell_type": "code",
   "execution_count": null,
   "metadata": {},
   "outputs": [],
   "source": [
    "##1.  Introduction\n",
    "\n",
    "##1.1. Background\n",
    "\n",
    "### Over the years, the emissions of green house gases like C02, Methane, e.t.c has greatly affected the ozone layer, depleting it, resulting in the green house effect, an increase in climatic temperatures or global warning. The effect of this cannot be overstated as seen in defrosting of ice layers, increased wiild fires, water shortage, heat waves and others. This green house gases emissions comes form automobiles, industrial actions like crude oil processing and domestic actions like coal burning. The increase in global temperatures (climate change) has been a great source of concern in this decade with many countries signing pacts in order to reduced human actions that aids gloabl warming.\n",
    " \n",
    "##1.2. Problem \n",
    "\n",
    "### The aim of the project is to investigate the relationship of greeen house gases emissions with climatic temperatures in countries, exloring c"
   ]
  }
 ]
}